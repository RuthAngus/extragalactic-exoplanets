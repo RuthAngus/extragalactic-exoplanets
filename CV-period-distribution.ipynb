{
 "cells": [
  {
   "cell_type": "code",
   "execution_count": 1,
   "metadata": {},
   "outputs": [],
   "source": [
    "import numpy as np\n",
    "import matplotlib.pyplot as plt\n",
    "%matplotlib inline\n",
    "import pandas as pd"
   ]
  },
  {
   "cell_type": "code",
   "execution_count": 12,
   "metadata": {},
   "outputs": [
    {
     "data": {
      "text/html": [
       "<div>\n",
       "<style scoped>\n",
       "    .dataframe tbody tr th:only-of-type {\n",
       "        vertical-align: middle;\n",
       "    }\n",
       "\n",
       "    .dataframe tbody tr th {\n",
       "        vertical-align: top;\n",
       "    }\n",
       "\n",
       "    .dataframe thead th {\n",
       "        text-align: right;\n",
       "    }\n",
       "</style>\n",
       "<table border=\"1\" class=\"dataframe\">\n",
       "  <thead>\n",
       "    <tr style=\"text-align: right;\">\n",
       "      <th></th>\n",
       "      <th>Name</th>\n",
       "      <th>AltName</th>\n",
       "      <th>RAJ2000</th>\n",
       "      <th>DEJ2000</th>\n",
       "      <th>Type1</th>\n",
       "      <th>Type2</th>\n",
       "      <th>mag1</th>\n",
       "      <th>Orb_Per</th>\n",
       "      <th>SpType2</th>\n",
       "      <th>SpType1</th>\n",
       "      <th>Refs</th>\n",
       "    </tr>\n",
       "  </thead>\n",
       "  <tbody>\n",
       "    <tr>\n",
       "      <th>0</th>\n",
       "      <td>V1017 Sgr</td>\n",
       "      <td>N Sgr 1919</td>\n",
       "      <td>18 32 04.5</td>\n",
       "      <td>-29 23 12</td>\n",
       "      <td>Nb</td>\n",
       "      <td>DN</td>\n",
       "      <td>13.7</td>\n",
       "      <td>5.714000</td>\n",
       "      <td>G5/3p</td>\n",
       "      <td></td>\n",
       "      <td>Refs</td>\n",
       "    </tr>\n",
       "    <tr>\n",
       "      <th>1</th>\n",
       "      <td>MR Vel</td>\n",
       "      <td>0925-4758</td>\n",
       "      <td>09 25 45.9</td>\n",
       "      <td>-47 58 18</td>\n",
       "      <td>SS</td>\n",
       "      <td></td>\n",
       "      <td>17.0</td>\n",
       "      <td>4.028782</td>\n",
       "      <td></td>\n",
       "      <td></td>\n",
       "      <td>Refs</td>\n",
       "    </tr>\n",
       "    <tr>\n",
       "      <th>2</th>\n",
       "      <td>V630 Cas</td>\n",
       "      <td>N Cas 1950</td>\n",
       "      <td>23 48 51.9</td>\n",
       "      <td>+51 27 39</td>\n",
       "      <td>DN</td>\n",
       "      <td></td>\n",
       "      <td>16.2</td>\n",
       "      <td>2.563870</td>\n",
       "      <td>K4-5</td>\n",
       "      <td></td>\n",
       "      <td>Refs</td>\n",
       "    </tr>\n",
       "    <tr>\n",
       "      <th>3</th>\n",
       "      <td>EQ CMa</td>\n",
       "      <td></td>\n",
       "      <td>06 48 51.6</td>\n",
       "      <td>-16 18 03</td>\n",
       "      <td>CV</td>\n",
       "      <td></td>\n",
       "      <td>11.9</td>\n",
       "      <td>2.291500</td>\n",
       "      <td></td>\n",
       "      <td></td>\n",
       "      <td>Refs</td>\n",
       "    </tr>\n",
       "    <tr>\n",
       "      <th>4</th>\n",
       "      <td>GK Per</td>\n",
       "      <td>N Per 1901</td>\n",
       "      <td>03 31 12.0</td>\n",
       "      <td>+43 54 16</td>\n",
       "      <td>Na</td>\n",
       "      <td>DN</td>\n",
       "      <td>12.8</td>\n",
       "      <td>1.996803</td>\n",
       "      <td>K1/4</td>\n",
       "      <td></td>\n",
       "      <td>Refs</td>\n",
       "    </tr>\n",
       "  </tbody>\n",
       "</table>\n",
       "</div>"
      ],
      "text/plain": [
       "           Name       AltName     RAJ2000    DEJ2000 Type1 Type2  mag1  \\\n",
       "0  V1017 Sgr     N Sgr 1919    18 32 04.5  -29 23 12    Nb    DN  13.7   \n",
       "1  MR Vel        0925-4758     09 25 45.9  -47 58 18    SS        17.0   \n",
       "2  V630 Cas      N Cas 1950    23 48 51.9  +51 27 39    DN        16.2   \n",
       "3  EQ CMa                      06 48 51.6  -16 18 03    CV        11.9   \n",
       "4  GK Per        N Per 1901    03 31 12.0  +43 54 16    Na    DN  12.8   \n",
       "\n",
       "     Orb_Per  SpType2  SpType1  Refs  \n",
       "0   5.714000  G5/3p             Refs  \n",
       "1   4.028782                    Refs  \n",
       "2   2.563870  K4-5              Refs  \n",
       "3   2.291500                    Refs  \n",
       "4   1.996803  K1/4              Refs  "
      ]
     },
     "execution_count": 12,
     "metadata": {},
     "output_type": "execute_result"
    }
   ],
   "source": [
    "df = pd.read_csv(\"CV_periods.csv\", skiprows=53)\n",
    "df.head()"
   ]
  },
  {
   "cell_type": "code",
   "execution_count": 11,
   "metadata": {},
   "outputs": [
    {
     "data": {
      "image/png": "[encoded data removed]",
      "text/plain": [
       "<matplotlib.figure.Figure at 0x10ac076d8>"
      ]
     },
     "metadata": {},
     "output_type": "display_data"
    }
   ],
   "source": [
    "plt.hist(df.Orb_Per.values, 50);"
   ]
  },
  {
   "cell_type": "code",
   "execution_count": null,
   "metadata": {},
   "outputs": [],
   "source": []
  }
 ],
 "metadata": {
  "kernelspec": {
   "display_name": "Python [conda root]",
   "language": "python",
   "name": "conda-root-py"
  },
  "language_info": {
   "codemirror_mode": {
    "name": "ipython",
    "version": 3
   },
   "file_extension": ".py",
   "mimetype": "text/x-python",
   "name": "python",
   "nbconvert_exporter": "python",
   "pygments_lexer": "ipython3",
   "version": "3.5.2"
  }
 },
 "nbformat": 4,
 "nbformat_minor": 1
}
