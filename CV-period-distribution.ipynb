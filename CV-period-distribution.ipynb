{
 "cells": [
  {
   "cell_type": "code",
   "execution_count": 74,
   "metadata": {},
   "outputs": [],
   "source": [
    "import numpy as np\n",
    "import matplotlib.pyplot as plt\n",
    "%matplotlib inline\n",
    "import pandas as pd\n",
    "from astropy.stats import LombScargle\n",
    "from tqdm import tqdm\n",
    "from mpl_toolkits.axes_grid1 import make_axes_locatable\n",
    "\n",
    "\n",
    "plotpar = {'axes.labelsize': 20,\n",
    "           'font.size': 20,\n",
    "           'legend.fontsize': 20,\n",
    "           'xtick.labelsize': 20,\n",
    "           'ytick.labelsize': 20,\n",
    "           'text.usetex': True}\n",
    "plt.rcParams.update(plotpar)"
   ]
  },
  {
   "cell_type": "code",
   "execution_count": 10,
   "metadata": {},
   "outputs": [
    {
     "data": {
      "text/html": [
       "<div>\n",
       "<style scoped>\n",
       "    .dataframe tbody tr th:only-of-type {\n",
       "        vertical-align: middle;\n",
       "    }\n",
       "\n",
       "    .dataframe tbody tr th {\n",
       "        vertical-align: top;\n",
       "    }\n",
       "\n",
       "    .dataframe thead th {\n",
       "        text-align: right;\n",
       "    }\n",
       "</style>\n",
       "<table border=\"1\" class=\"dataframe\">\n",
       "  <thead>\n",
       "    <tr style=\"text-align: right;\">\n",
       "      <th></th>\n",
       "      <th>Name</th>\n",
       "      <th>AltName</th>\n",
       "      <th>RAJ2000</th>\n",
       "      <th>DEJ2000</th>\n",
       "      <th>Type1</th>\n",
       "      <th>Type2</th>\n",
       "      <th>mag1</th>\n",
       "      <th>Orb_Per</th>\n",
       "      <th>SpType2</th>\n",
       "      <th>SpType1</th>\n",
       "      <th>Refs</th>\n",
       "    </tr>\n",
       "  </thead>\n",
       "  <tbody>\n",
       "    <tr>\n",
       "      <th>0</th>\n",
       "      <td>V1017 Sgr</td>\n",
       "      <td>N Sgr 1919</td>\n",
       "      <td>18 32 04.5</td>\n",
       "      <td>-29 23 12</td>\n",
       "      <td>Nb</td>\n",
       "      <td>DN</td>\n",
       "      <td>13.7</td>\n",
       "      <td>5.714000</td>\n",
       "      <td>G5/3p</td>\n",
       "      <td></td>\n",
       "      <td>Refs</td>\n",
       "    </tr>\n",
       "    <tr>\n",
       "      <th>1</th>\n",
       "      <td>MR Vel</td>\n",
       "      <td>0925-4758</td>\n",
       "      <td>09 25 45.9</td>\n",
       "      <td>-47 58 18</td>\n",
       "      <td>SS</td>\n",
       "      <td></td>\n",
       "      <td>17.0</td>\n",
       "      <td>4.028782</td>\n",
       "      <td></td>\n",
       "      <td></td>\n",
       "      <td>Refs</td>\n",
       "    </tr>\n",
       "    <tr>\n",
       "      <th>2</th>\n",
       "      <td>V630 Cas</td>\n",
       "      <td>N Cas 1950</td>\n",
       "      <td>23 48 51.9</td>\n",
       "      <td>+51 27 39</td>\n",
       "      <td>DN</td>\n",
       "      <td></td>\n",
       "      <td>16.2</td>\n",
       "      <td>2.563870</td>\n",
       "      <td>K4-5</td>\n",
       "      <td></td>\n",
       "      <td>Refs</td>\n",
       "    </tr>\n",
       "    <tr>\n",
       "      <th>3</th>\n",
       "      <td>EQ CMa</td>\n",
       "      <td></td>\n",
       "      <td>06 48 51.6</td>\n",
       "      <td>-16 18 03</td>\n",
       "      <td>CV</td>\n",
       "      <td></td>\n",
       "      <td>11.9</td>\n",
       "      <td>2.291500</td>\n",
       "      <td></td>\n",
       "      <td></td>\n",
       "      <td>Refs</td>\n",
       "    </tr>\n",
       "    <tr>\n",
       "      <th>4</th>\n",
       "      <td>GK Per</td>\n",
       "      <td>N Per 1901</td>\n",
       "      <td>03 31 12.0</td>\n",
       "      <td>+43 54 16</td>\n",
       "      <td>Na</td>\n",
       "      <td>DN</td>\n",
       "      <td>12.8</td>\n",
       "      <td>1.996803</td>\n",
       "      <td>K1/4</td>\n",
       "      <td></td>\n",
       "      <td>Refs</td>\n",
       "    </tr>\n",
       "  </tbody>\n",
       "</table>\n",
       "</div>"
      ],
      "text/plain": [
       "           Name       AltName     RAJ2000    DEJ2000 Type1 Type2  mag1  \\\n",
       "0  V1017 Sgr     N Sgr 1919    18 32 04.5  -29 23 12    Nb    DN  13.7   \n",
       "1  MR Vel        0925-4758     09 25 45.9  -47 58 18    SS        17.0   \n",
       "2  V630 Cas      N Cas 1950    23 48 51.9  +51 27 39    DN        16.2   \n",
       "3  EQ CMa                      06 48 51.6  -16 18 03    CV        11.9   \n",
       "4  GK Per        N Per 1901    03 31 12.0  +43 54 16    Na    DN  12.8   \n",
       "\n",
       "     Orb_Per  SpType2  SpType1  Refs  \n",
       "0   5.714000  G5/3p             Refs  \n",
       "1   4.028782                    Refs  \n",
       "2   2.563870  K4-5              Refs  \n",
       "3   2.291500                    Refs  \n",
       "4   1.996803  K1/4              Refs  "
      ]
     },
     "execution_count": 10,
     "metadata": {},
     "output_type": "execute_result"
    }
   ],
   "source": [
    "df = pd.read_csv(\"CV_periods.csv\", skiprows=53)\n",
    "df.head()"
   ]
  },
  {
   "cell_type": "code",
   "execution_count": 17,
   "metadata": {},
   "outputs": [
    {
     "name": "stdout",
     "output_type": "stream",
     "text": [
      "         \n",
      "         \n",
      "         \n",
      "         \n",
      "         \n",
      "         \n",
      "         \n",
      "         \n",
      "         \n",
      "         \n",
      "         \n",
      "         \n"
     ]
    }
   ],
   "source": [
    "periods = np.zeros((len(df)))\n",
    "for i, p in enumerate(df.Orb_Per.values):\n",
    "    try:\n",
    "        periods[i] = float(p)\n",
    "    except:\n",
    "        print(p)"
   ]
  },
  {
   "cell_type": "code",
   "execution_count": 25,
   "metadata": {},
   "outputs": [
    {
     "data": {
      "text/plain": [
       "Text(0.5,0,'Orbital period [hrs]')"
      ]
     },
     "execution_count": 25,
     "metadata": {},
     "output_type": "execute_result"
    },
    {
     "data": {
      "image/png": "[encoded data removed]",
      "text/plain": [
       "<matplotlib.figure.Figure at 0x10ea05438>"
      ]
     },
     "metadata": {},
     "output_type": "display_data"
    }
   ],
   "source": [
    "periods_hours = periods * 24\n",
    "m = periods_hours < 12\n",
    "plt.hist(periods_hours[m], 40);\n",
    "plt.xlabel(\"Orbital period [hrs]\")"
   ]
  },
  {
   "cell_type": "code",
   "execution_count": 53,
   "metadata": {},
   "outputs": [],
   "source": [
    "def make_light_curve(period_days, amplitude, phase, cadence_minutes=5, precision=5, baseline=20, nights=True):\n",
    "    \"\"\"\n",
    "    period_days is the period in days\n",
    "    amplitude is the amplitude in percent\n",
    "    phase is the phase in radians.\n",
    "    \"\"\"\n",
    "    \n",
    "    cadence = cadence_minutes/(24*60)  # 30 minute cadence in days\n",
    "    t = np.arange(0, baseline, cadence)  # times at which to calculate light curve [days]\n",
    "\n",
    "    if nights:\n",
    "        times = []\n",
    "        for i in range(baseline):\n",
    "            n = 24*i < t*24\n",
    "            n &= t*24 < 24*i + 6\n",
    "            times += list(t[n])\n",
    "        t = np.array(times)\n",
    "    \n",
    "    f = 1./period_days\n",
    "    y = 1 + amplitude*1e-2*np.sin(2*np.pi*f*t + phase)\n",
    "    \n",
    "    f = y + np.random.randn(len(t))*precision*1e-2\n",
    "    return t, f"
   ]
  },
  {
   "cell_type": "code",
   "execution_count": 57,
   "metadata": {},
   "outputs": [
    {
     "data": {
      "text/plain": [
       "[<matplotlib.lines.Line2D at 0x111e237f0>]"
      ]
     },
     "execution_count": 57,
     "metadata": {},
     "output_type": "execute_result"
    },
    {
     "data": {
      "image/png": "[encoded data removed]",
      "text/plain": [
       "<matplotlib.figure.Figure at 0x111661898>"
      ]
     },
     "metadata": {},
     "output_type": "display_data"
    }
   ],
   "source": [
    "x, y = make_light_curve(5, 5, np.pi, nights=True)\n",
    "plt.plot(x, y, \".\")"
   ]
  },
  {
   "cell_type": "markdown",
   "metadata": {},
   "source": [
    "Draw periods and amplitudes from logarithmic distributions."
   ]
  },
  {
   "cell_type": "code",
   "execution_count": 83,
   "metadata": {},
   "outputs": [],
   "source": [
    "Ntrials = 24\n",
    "Namps = 8\n",
    "Npers = 16\n",
    "amps = 10**np.linspace(.01, 1, Namps)\n",
    "pers = 10**np.linspace(.5/24, 1, Npers)\n",
    "recovered, true_p = [np.zeros((Npers, Namps, Ntrials)) for i in range(2)]"
   ]
  },
  {
   "cell_type": "code",
   "execution_count": 84,
   "metadata": {},
   "outputs": [
    {
     "name": "stderr",
     "output_type": "stream",
     "text": [
      "100%|██████████| 24/24 [01:28<00:00,  3.98s/it]\n"
     ]
    },
    {
     "data": {
      "text/plain": [
       "(array([[[6.22329664e-03, 5.15899613e-01, 1.04016517e+00, ...,\n",
       "          2.74900794e+01, 1.04016517e+00, 1.05153309e+00],\n",
       "         [1.04016517e+00, 5.10425877e-01, 5.13148148e-01, ...,\n",
       "          1.04016517e+00, 1.04016517e+00, 1.05153309e+00],\n",
       "         [1.04016517e+00, 1.05153309e+00, 1.04016517e+00, ...,\n",
       "          2.74900794e+01, 1.05153309e+00, 1.04016517e+00],\n",
       "         ...,\n",
       "         [1.05153309e+00, 1.05153309e+00, 1.05153309e+00, ...,\n",
       "          1.05153309e+00, 1.05153309e+00, 1.05153309e+00],\n",
       "         [1.05153309e+00, 1.05153309e+00, 1.05153309e+00, ...,\n",
       "          1.05153309e+00, 1.05153309e+00, 1.05153309e+00],\n",
       "         [1.05153309e+00, 1.05153309e+00, 1.05153309e+00, ...,\n",
       "          1.05153309e+00, 1.05153309e+00, 1.05153309e+00]],\n",
       " \n",
       "        [[1.21025507e+00, 1.24148746e+00, 5.48235201e-01, ...,\n",
       "          1.21025507e+00, 1.21025507e+00, 1.22567233e+00],\n",
       "         [1.21025507e+00, 1.21025507e+00, 1.22567233e+00, ...,\n",
       "          1.22567233e+00, 1.22567233e+00, 1.22567233e+00],\n",
       "         [1.22567233e+00, 1.21025507e+00, 1.21025507e+00, ...,\n",
       "          1.21025507e+00, 1.21025507e+00, 1.22567233e+00],\n",
       "         ...,\n",
       "         [1.22567233e+00, 1.22567233e+00, 1.22567233e+00, ...,\n",
       "          1.22567233e+00, 1.22567233e+00, 1.21025507e+00],\n",
       "         [1.22567233e+00, 1.22567233e+00, 1.22567233e+00, ...,\n",
       "          1.22567233e+00, 1.22567233e+00, 1.22567233e+00],\n",
       "         [1.22567233e+00, 1.22567233e+00, 1.22567233e+00, ...,\n",
       "          1.22567233e+00, 1.22567233e+00, 1.22567233e+00]],\n",
       " \n",
       "        [[1.40460260e+00, 1.42541152e+00, 5.88472647e-01, ...,\n",
       "          1.40460260e+00, 1.42541152e+00, 1.40460260e+00],\n",
       "         [1.42541152e+00, 1.40460260e+00, 1.42541152e+00, ...,\n",
       "          1.42541152e+00, 1.42541152e+00, 5.84895306e-01],\n",
       "         [1.42541152e+00, 1.42541152e+00, 1.42541152e+00, ...,\n",
       "          1.42541152e+00, 1.40460260e+00, 1.42541152e+00],\n",
       "         ...,\n",
       "         [1.42541152e+00, 1.42541152e+00, 1.42541152e+00, ...,\n",
       "          1.42541152e+00, 1.40460260e+00, 1.42541152e+00],\n",
       "         [1.42541152e+00, 1.42541152e+00, 1.42541152e+00, ...,\n",
       "          1.42541152e+00, 1.42541152e+00, 1.42541152e+00],\n",
       "         [1.42541152e+00, 1.42541152e+00, 1.42541152e+00, ...,\n",
       "          1.42541152e+00, 1.42541152e+00, 1.42541152e+00]],\n",
       " \n",
       "        ...,\n",
       " \n",
       "        [[7.12705761e+00, 7.12705761e+00, 1.57872307e-02, ...,\n",
       "          7.69722222e+00, 7.69722222e+00, 7.12705761e+00],\n",
       "         [7.69722222e+00, 7.12705761e+00, 7.12705761e+00, ...,\n",
       "          7.69722222e+00, 7.69722222e+00, 7.12705761e+00],\n",
       "         [7.12705761e+00, 7.12705761e+00, 7.12705761e+00, ...,\n",
       "          7.69722222e+00, 8.78678336e-01, 7.12705761e+00],\n",
       "         ...,\n",
       "         [7.12705761e+00, 7.69722222e+00, 7.69722222e+00, ...,\n",
       "          7.69722222e+00, 7.69722222e+00, 7.12705761e+00],\n",
       "         [7.69722222e+00, 7.69722222e+00, 7.69722222e+00, ...,\n",
       "          7.69722222e+00, 7.69722222e+00, 7.12705761e+00],\n",
       "         [7.69722222e+00, 7.69722222e+00, 7.69722222e+00, ...,\n",
       "          7.69722222e+00, 7.12705761e+00, 7.12705761e+00]],\n",
       " \n",
       "        [[9.16335979e+00, 9.16335979e+00, 8.36654589e+00, ...,\n",
       "          8.36654589e+00, 8.36654589e+00, 8.36654589e+00],\n",
       "         [8.36654589e+00, 8.36654589e+00, 9.16335979e+00, ...,\n",
       "          8.36654589e+00, 8.36654589e+00, 8.36654589e+00],\n",
       "         [9.16335979e+00, 1.12532489e+00, 8.36654589e+00, ...,\n",
       "          8.36654589e+00, 9.16335979e+00, 8.36654589e+00],\n",
       "         ...,\n",
       "         [8.36654589e+00, 8.36654589e+00, 8.36654589e+00, ...,\n",
       "          8.36654589e+00, 8.36654589e+00, 8.36654589e+00],\n",
       "         [8.36654589e+00, 8.36654589e+00, 8.36654589e+00, ...,\n",
       "          8.36654589e+00, 8.36654589e+00, 8.36654589e+00],\n",
       "         [8.36654589e+00, 8.36654589e+00, 8.36654589e+00, ...,\n",
       "          8.36654589e+00, 8.36654589e+00, 8.36654589e+00]],\n",
       " \n",
       "        [[1.07377130e-02, 1.11231535e+00, 1.13194444e+01, ...,\n",
       "          1.01279240e+01, 6.71167924e-03, 9.16335979e+00],\n",
       "         [1.13194444e+01, 1.01279240e+01, 1.01279240e+01, ...,\n",
       "          1.01279240e+01, 1.13194444e+01, 1.01279240e+01],\n",
       "         [1.01279240e+01, 1.01279240e+01, 1.01279240e+01, ...,\n",
       "          1.01279240e+01, 1.01279240e+01, 1.01279240e+01],\n",
       "         ...,\n",
       "         [1.01279240e+01, 1.01279240e+01, 1.01279240e+01, ...,\n",
       "          1.01279240e+01, 1.01279240e+01, 1.01279240e+01],\n",
       "         [1.01279240e+01, 1.01279240e+01, 1.01279240e+01, ...,\n",
       "          1.01279240e+01, 1.01279240e+01, 1.01279240e+01],\n",
       "         [1.01279240e+01, 1.01279240e+01, 1.01279240e+01, ...,\n",
       "          1.01279240e+01, 1.01279240e+01, 1.01279240e+01]]]),\n",
       " array([[[ 1.04913973,  1.04913973,  1.04913973, ...,  1.04913973,\n",
       "           1.04913973,  1.04913973],\n",
       "         [ 1.04913973,  1.04913973,  1.04913973, ...,  1.04913973,\n",
       "           1.04913973,  1.04913973],\n",
       "         [ 1.04913973,  1.04913973,  1.04913973, ...,  1.04913973,\n",
       "           1.04913973,  1.04913973],\n",
       "         ...,\n",
       "         [ 1.04913973,  1.04913973,  1.04913973, ...,  1.04913973,\n",
       "           1.04913973,  1.04913973],\n",
       "         [ 1.04913973,  1.04913973,  1.04913973, ...,  1.04913973,\n",
       "           1.04913973,  1.04913973],\n",
       "         [ 1.04913973,  1.04913973,  1.04913973, ...,  1.04913973,\n",
       "           1.04913973,  1.04913973]],\n",
       " \n",
       "        [[ 1.21930151,  1.21930151,  1.21930151, ...,  1.21930151,\n",
       "           1.21930151,  1.21930151],\n",
       "         [ 1.21930151,  1.21930151,  1.21930151, ...,  1.21930151,\n",
       "           1.21930151,  1.21930151],\n",
       "         [ 1.21930151,  1.21930151,  1.21930151, ...,  1.21930151,\n",
       "           1.21930151,  1.21930151],\n",
       "         ...,\n",
       "         [ 1.21930151,  1.21930151,  1.21930151, ...,  1.21930151,\n",
       "           1.21930151,  1.21930151],\n",
       "         [ 1.21930151,  1.21930151,  1.21930151, ...,  1.21930151,\n",
       "           1.21930151,  1.21930151],\n",
       "         [ 1.21930151,  1.21930151,  1.21930151, ...,  1.21930151,\n",
       "           1.21930151,  1.21930151]],\n",
       " \n",
       "        [[ 1.41706212,  1.41706212,  1.41706212, ...,  1.41706212,\n",
       "           1.41706212,  1.41706212],\n",
       "         [ 1.41706212,  1.41706212,  1.41706212, ...,  1.41706212,\n",
       "           1.41706212,  1.41706212],\n",
       "         [ 1.41706212,  1.41706212,  1.41706212, ...,  1.41706212,\n",
       "           1.41706212,  1.41706212],\n",
       "         ...,\n",
       "         [ 1.41706212,  1.41706212,  1.41706212, ...,  1.41706212,\n",
       "           1.41706212,  1.41706212],\n",
       "         [ 1.41706212,  1.41706212,  1.41706212, ...,  1.41706212,\n",
       "           1.41706212,  1.41706212],\n",
       "         [ 1.41706212,  1.41706212,  1.41706212, ...,  1.41706212,\n",
       "           1.41706212,  1.41706212]],\n",
       " \n",
       "        ...,\n",
       " \n",
       "        [[ 7.40362553,  7.40362553,  7.40362553, ...,  7.40362553,\n",
       "           7.40362553,  7.40362553],\n",
       "         [ 7.40362553,  7.40362553,  7.40362553, ...,  7.40362553,\n",
       "           7.40362553,  7.40362553],\n",
       "         [ 7.40362553,  7.40362553,  7.40362553, ...,  7.40362553,\n",
       "           7.40362553,  7.40362553],\n",
       "         ...,\n",
       "         [ 7.40362553,  7.40362553,  7.40362553, ...,  7.40362553,\n",
       "           7.40362553,  7.40362553],\n",
       "         [ 7.40362553,  7.40362553,  7.40362553, ...,  7.40362553,\n",
       "           7.40362553,  7.40362553],\n",
       "         [ 7.40362553,  7.40362553,  7.40362553, ...,  7.40362553,\n",
       "           7.40362553,  7.40362553]],\n",
       " \n",
       "        [[ 8.60443231,  8.60443231,  8.60443231, ...,  8.60443231,\n",
       "           8.60443231,  8.60443231],\n",
       "         [ 8.60443231,  8.60443231,  8.60443231, ...,  8.60443231,\n",
       "           8.60443231,  8.60443231],\n",
       "         [ 8.60443231,  8.60443231,  8.60443231, ...,  8.60443231,\n",
       "           8.60443231,  8.60443231],\n",
       "         ...,\n",
       "         [ 8.60443231,  8.60443231,  8.60443231, ...,  8.60443231,\n",
       "           8.60443231,  8.60443231],\n",
       "         [ 8.60443231,  8.60443231,  8.60443231, ...,  8.60443231,\n",
       "           8.60443231,  8.60443231],\n",
       "         [ 8.60443231,  8.60443231,  8.60443231, ...,  8.60443231,\n",
       "           8.60443231,  8.60443231]],\n",
       " \n",
       "        [[10.        , 10.        , 10.        , ..., 10.        ,\n",
       "          10.        , 10.        ],\n",
       "         [10.        , 10.        , 10.        , ..., 10.        ,\n",
       "          10.        , 10.        ],\n",
       "         [10.        , 10.        , 10.        , ..., 10.        ,\n",
       "          10.        , 10.        ],\n",
       "         ...,\n",
       "         [10.        , 10.        , 10.        , ..., 10.        ,\n",
       "          10.        , 10.        ],\n",
       "         [10.        , 10.        , 10.        , ..., 10.        ,\n",
       "          10.        , 10.        ],\n",
       "         [10.        , 10.        , 10.        , ..., 10.        ,\n",
       "          10.        , 10.        ]]]))"
      ]
     },
     "execution_count": 84,
     "metadata": {},
     "output_type": "execute_result"
    }
   ],
   "source": [
    "def run_ls(Ntrials, pers, amps):\n",
    "    Npers, Namps = len(pers), len(amps)\n",
    "    for k in tqdm(range(Ntrials)):\n",
    "        for i in range(Npers):\n",
    "            for j in range(Namps):\n",
    "                t, f = make_light_curve(pers[i], amps[j], phase=np.pi)\n",
    "                frequency, power = LombScargle(t, f).autopower()\n",
    "                period = 1./frequency\n",
    "                recovered[i, j, k] = period[power == max(power)][0]\n",
    "                true_p[i, j, k] = pers[i]\n",
    "    return recovered, true_p\n",
    "            \n",
    "#                 # Make plots\n",
    "#                 plt.plot(periodogram.period, periodogram.power)\n",
    "#                 plt.axvline(porbs[i], color=\"tab:orange\", ls=\"--\")\n",
    "#                 plt.savefig(\"plots/{0}{1}{2}\".format(i, j, k))\n",
    "#                 plt.close()\n",
    "#                 plt.plot(t, f, \".\")\n",
    "#                 plt.savefig(\"plots/{0}{1}{2}_lc\".format(i, j, k))\n",
    "#                 plt.close()\n",
    "run_ls(Ntrials, pers, amps)"
   ]
  },
  {
   "cell_type": "code",
   "execution_count": 81,
   "metadata": {},
   "outputs": [],
   "source": [
    "def make_plot(true_p, recovered, pers, amps, Ntrials):\n",
    "    Npers, Namps = len(pers), len(amps)\n",
    "    \n",
    "    success = true_p/abs(true_p - recovered)\n",
    "    success_hist = np.zeros((Npers, Namps))\n",
    "\n",
    "    for i in range(Npers):\n",
    "        for j in range(Namps):\n",
    "            success = abs(true_p[i, j, :] - recovered[i, j, :])/true_p[i, j, :]\n",
    "            s = success <= .1\n",
    "            success_hist[i, j] = float(sum(s))/Ntrials\n",
    "        \n",
    "    fig, ax = plt.subplots(figsize=(Namps*1, Npers*1))\n",
    "    img = ax.imshow(success_hist, extent=[amps[0], amps[-1], pers[1], pers[0]], aspect=\"auto\")\n",
    "#     tlabels = []\n",
    "#     tmarks = np.linspace(pers[0], 1.5, Npers)\n",
    "#     for p in pers:\n",
    "#         tlabels.append(\"${0:.3}$\".format(p))\n",
    "#     ax.set_yticks(tmarks)\n",
    "#     ax.set_yticklabels(tlabels)\n",
    "#     plt.xlabel(\"$\\mathrm{Period}$\")\n",
    "#     plt.ylabel(\"$\\mathrm{Amplitude}$\")\n",
    "\n",
    "#     divider = make_axes_locatable(ax)\n",
    "#     cax = divider.append_axes(\"right\", size=\"5%\", pad=0.05)\n",
    "\n",
    "    #plt.colorbar(img, ax=ax, cax=cax, label=\"$\\mathrm{Fraction~recovered}$\")\n",
    "    plt.savefig(\"test.pdf\")"
   ]
  },
  {
   "cell_type": "code",
   "execution_count": 82,
   "metadata": {},
   "outputs": [
    {
     "data": {
      "image/png": "[encoded data removed]",
      "text/plain": [
       "<matplotlib.figure.Figure at 0x119e8df98>"
      ]
     },
     "metadata": {},
     "output_type": "display_data"
    }
   ],
   "source": [
    "make_plot(true_p, recovered, pers, amps, Ntrials)"
   ]
  },
  {
   "cell_type": "code",
   "execution_count": null,
   "metadata": {},
   "outputs": [],
   "source": []
  }
 ],
 "metadata": {
  "anaconda-cloud": {},
  "kernelspec": {
   "display_name": "Python [conda root]",
   "language": "python",
   "name": "conda-root-py"
  },
  "language_info": {
   "codemirror_mode": {
    "name": "ipython",
    "version": 3
   },
   "file_extension": ".py",
   "mimetype": "text/x-python",
   "name": "python",
   "nbconvert_exporter": "python",
   "pygments_lexer": "ipython3",
   "version": "3.5.2"
  }
 },
 "nbformat": 4,
 "nbformat_minor": 1
}
