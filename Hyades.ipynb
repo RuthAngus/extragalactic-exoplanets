{
 "cells": [
  {
   "cell_type": "markdown",
   "metadata": {},
   "source": [
    "# Assembling data for the Hyades"
   ]
  },
  {
   "cell_type": "code",
   "execution_count": 276,
   "metadata": {},
   "outputs": [],
   "source": [
    "import numpy as np\n",
    "import matplotlib.pyplot as plt\n",
    "%matplotlib inline\n",
    "import pandas as pd\n",
    "from astropy.coordinates import SkyCoord\n",
    "from astropy import units as u\n",
    "from astropy.io import fits\n",
    "from tqdm import tqdm\n",
    "\n",
    "plotpar = {'axes.labelsize': 25,\n",
    "           'font.size': 25,\n",
    "           'legend.fontsize': 25,\n",
    "           'xtick.labelsize': 25,\n",
    "           'ytick.labelsize': 25,\n",
    "           'text.usetex': True}\n",
    "plt.rcParams.update(plotpar)"
   ]
  },
  {
   "cell_type": "code",
   "execution_count": 277,
   "metadata": {},
   "outputs": [],
   "source": [
    "def convert_hours_to_degrees(df, ra_name, dec_name):\n",
    "    RA, DE = [], [] #[np.zeros(len(douglas)) for i in range(2)]\n",
    "    for i in range(len(df)):     \n",
    "        coords = \"{0} {1}\".format(df[ra_name].values[i], df[dec_name].values[i])\n",
    "        c = SkyCoord(coords, unit=(u.hourangle, u.deg))\n",
    "        RA.append(c.ra.degree)\n",
    "        DE.append(c.dec.degree)\n",
    "    df[\"ra\"] = RA\n",
    "    df[\"dec\"] = DE\n",
    "    return df"
   ]
  },
  {
   "cell_type": "markdown",
   "metadata": {},
   "source": [
    "# Douglas rotation periods"
   ]
  },
  {
   "cell_type": "code",
   "execution_count": 278,
   "metadata": {},
   "outputs": [
    {
     "data": {
      "text/plain": [
       "[<matplotlib.lines.Line2D at 0x10429a358>]"
      ]
     },
     "execution_count": 278,
     "metadata": {},
     "output_type": "execute_result"
    },
    {
     "data": {
      "image/png": "[encoded data removed]",
      "text/plain": [
       "<matplotlib.figure.Figure at 0x120868668>"
      ]
     },
     "metadata": {},
     "output_type": "display_data"
    }
   ],
   "source": [
    "douglas = pd.read_csv(\"../data/hyades.csv\")\n",
    "m = 0 < douglas.prot.values\n",
    "plt.plot(douglas.bp[m] - douglas.rp[m], np.log10(douglas.prot[m]), \".\")"
   ]
  },
  {
   "cell_type": "code",
   "execution_count": 279,
   "metadata": {},
   "outputs": [
    {
     "data": {
      "image/png": "[encoded data removed]",
      "text/plain": [
       "<matplotlib.figure.Figure at 0x120818668>"
      ]
     },
     "metadata": {},
     "output_type": "display_data"
    }
   ],
   "source": [
    "mass = []\n",
    "for i, ma in enumerate(douglas.Mass.values):\n",
    "    try:\n",
    "        mass.append(float(ma))\n",
    "    except:\n",
    "        mass.append(0.)\n",
    "douglas[\"mass\"] = np.array(mass)\n",
    "plt.plot(douglas.mass.values[m], np.log10(douglas.prot.values[m]), \".\")\n",
    "plt.gca().invert_xaxis()"
   ]
  },
  {
   "cell_type": "markdown",
   "metadata": {},
   "source": [
    "Combine Douglas, Delorme and Radick (still need to add Hartman, Prosser and ASAS)."
   ]
  },
  {
   "cell_type": "markdown",
   "metadata": {},
   "source": [
    "# Delorme"
   ]
  },
  {
   "cell_type": "code",
   "execution_count": 340,
   "metadata": {},
   "outputs": [],
   "source": [
    "de = pd.read_csv(\"../data/hyades_delorme.csv\", skiprows=70)\n",
    "delorme = pd.DataFrame(dict({\n",
    "                             \"prot\": de.Per,\n",
    "                             \"J-Ks\": de[\"J-Ks\"],\n",
    "                             \"Ks\": de.Ksmag,\n",
    "                             \"vmag\": de.Vmag,\n",
    "                             \"B-V\": de[\"B-Vl\"],\n",
    "                             \"ra\": de._RA,\n",
    "                             \"dec\": de._DE\n",
    "                              }))"
   ]
  },
  {
   "cell_type": "code",
   "execution_count": 334,
   "metadata": {},
   "outputs": [],
   "source": [
    "radick87= pd.read_csv(\"../data/hyades_radick_1987.csv\")\n",
    "radick95= pd.read_csv(\"../data/hyades_radick_1995.csv\")"
   ]
  },
  {
   "cell_type": "markdown",
   "metadata": {},
   "source": [
    "# Hartman"
   ]
  },
  {
   "cell_type": "code",
   "execution_count": 335,
   "metadata": {},
   "outputs": [],
   "source": [
    "ha = pd.read_csv(\"../data/hartman.csv\", skiprows=76)\n",
    "ha = convert_hours_to_degrees(ha, \"RAJ2000\", \"DEJ2000\")\n",
    "hartman = pd.DataFrame(dict({\"ra\": ha.ra, \"dec\": ha.dec,\n",
    "                             \"jmag\": ha.Jmag,\n",
    "                             \"kmag\": ha.Kmag,\n",
    "                             \"hmag\": ha.Hmag,\n",
    "                             \"vmag\": ha.Vmag,\n",
    "                             \"prot\": ha.Pe\n",
    "}))"
   ]
  },
  {
   "cell_type": "code",
   "execution_count": 336,
   "metadata": {},
   "outputs": [],
   "source": [
    "from astropy.coordinates import FK5\n",
    "\n",
    "RAJ2000, DEJ2000 = [], []\n",
    "for i in range(len(radick87)):\n",
    "    coord = SkyCoord(radick87.RAJ1950.values[i], radick87.decJ1950.values[i], \n",
    "                     unit=(u.hourangle, u.deg), equinox=\"J1950\")\n",
    "    rd = coord.transform_to(FK5(equinox='J2000'))\n",
    "    RAJ2000.append(rd.ra.degree)\n",
    "    DEJ2000.append(rd.dec.degree)\n",
    "\n",
    "radick87[\"RAJ2000\"] = np.array(RAJ2000)\n",
    "radick87[\"DEJ2000\"] = np.array(DEJ2000)"
   ]
  },
  {
   "cell_type": "markdown",
   "metadata": {},
   "source": [
    "Load the gaia crossmatch for the clusters."
   ]
  },
  {
   "cell_type": "code",
   "execution_count": 337,
   "metadata": {},
   "outputs": [
    {
     "name": "stderr",
     "output_type": "stream",
     "text": [
      "/Users/ruthangus/anaconda/lib/python3.5/site-packages/ipykernel/__main__.py:5: SettingWithCopyWarning: \n",
      "A value is trying to be set on a copy of a slice from a DataFrame.\n",
      "Try using .loc[row_indexer,col_indexer] = value instead\n",
      "\n",
      "See the caveats in the documentation: http://pandas.pydata.org/pandas-docs/stable/indexing.html#indexing-view-versus-copy\n"
     ]
    }
   ],
   "source": [
    "gaia = pd.read_csv(\"../data/gaia_cluster_crossmatch.csv\", skiprows=49)\n",
    "m = gaia.Cluster.values == \"Hyades  \"\n",
    "hg = gaia.iloc[m]\n",
    "hg.head()\n",
    "hg[\"source_id\"] = hg.Source"
   ]
  },
  {
   "cell_type": "markdown",
   "metadata": {},
   "source": [
    "And Megan Bedell's K2 - Gaia crossmatch."
   ]
  },
  {
   "cell_type": "code",
   "execution_count": 338,
   "metadata": {},
   "outputs": [],
   "source": [
    "bedell = pd.read_csv(\"K2_c4_gaia.csv\")"
   ]
  },
  {
   "cell_type": "code",
   "execution_count": 341,
   "metadata": {},
   "outputs": [
    {
     "data": {
      "text/plain": [
       "(-1, 36)"
      ]
     },
     "execution_count": 341,
     "metadata": {},
     "output_type": "execute_result"
    },
    {
     "data": {
      "image/png": "[encoded data removed]",
      "text/plain": [
       "<matplotlib.figure.Figure at 0x120acf940>"
      ]
     },
     "metadata": {},
     "output_type": "display_data"
    }
   ],
   "source": [
    "f = .3\n",
    "width, height = (max(hg.RA_ICRS) - min(hg.RA_ICRS)), (max(hg.DE_ICRS) - min(hg.DE_ICRS))\n",
    "plt.figure(figsize=(width*f, height*f))\n",
    "plt.scatter(hg.RA_ICRS, hg.DE_ICRS, s=30, zorder=0, alpha=.5)\n",
    "plt.scatter(douglas.ra, douglas.dec, s=25, zorder=1, alpha=.5)\n",
    "plt.scatter(hartman.ra, hartman.dec, s=25, zorder=2, alpha=.5)\n",
    "plt.scatter(delorme.ra, delorme.dec, s=25, zorder=3, alpha=.5)\n",
    "plt.scatter(radick87.RAJ2000, radick87.DEJ2000, zorder=4, alpha=.5)\n",
    "plt.xlabel(\"$\\mathrm{RA~[Degrees]}$\")\n",
    "plt.ylabel(\"$\\mathrm{Dec~[Degrees]}$\")\n",
    "plt.xlim(48, 87)\n",
    "plt.ylim(-1, 36)"
   ]
  },
  {
   "cell_type": "markdown",
   "metadata": {},
   "source": [
    "Find closest matches between Gaia and other catalogues."
   ]
  },
  {
   "cell_type": "code",
   "execution_count": 342,
   "metadata": {},
   "outputs": [],
   "source": [
    "def find_min_dist(ra1, dec1, ra2, dec2, dist_arcsecs=5.):\n",
    "    \"\"\"\n",
    "    ind1 is a list of indices the same length as ra1 and dec1 that identifies matching stars in ra1 and dec1.\n",
    "    ind2 is a list of indices the same length as ra2 and dec2 that identifies matching stars in ra2 and dec2.\n",
    "    \"\"\"\n",
    "    closest_ra, closest_dec, distance, ind1, ind2 = [], [], [], [], []\n",
    "    for i in tqdm(range(len(ra1))):\n",
    "        e2 = np.sqrt((ra2.values - ra1.values[i])**2 + (dec2.values - dec1.values[i])**2)\n",
    "        min_distance = min(e2)\n",
    "        if min_distance < dist_arcsecs/3600.:\n",
    "            m = e2 == min_distance\n",
    "            if sum(m) > 1:\n",
    "                m = np.arange(len(ra2))[m[0]]\n",
    "            closest_ra.append(ra1.values[i])\n",
    "            closest_dec.append(dec1.values[i])\n",
    "            distance.append(min_distance)\n",
    "            ind1.append(i)\n",
    "            ind2.append(np.arange(len(ra2))[m])\n",
    "            \n",
    "    m1, m2 = np.zeros(len(ra1), dtype=\"bool\"), np.zeros(len(ra2), dtype=\"bool\")\n",
    "    for i in ind1:\n",
    "        m1[i] = True\n",
    "    for i in ind2:\n",
    "        m2[i] = True\n",
    "    return m1, m2"
   ]
  },
  {
   "cell_type": "markdown",
   "metadata": {},
   "source": [
    "# Gaia and Hartman"
   ]
  },
  {
   "cell_type": "markdown",
   "metadata": {},
   "source": [
    "Hartman has J, H and K colors, V-band magnitudes, and the rotation period column is \"Pe\"."
   ]
  },
  {
   "cell_type": "code",
   "execution_count": 343,
   "metadata": {},
   "outputs": [
    {
     "data": {
      "text/plain": [
       "(-1, 36)"
      ]
     },
     "execution_count": 343,
     "metadata": {},
     "output_type": "execute_result"
    },
    {
     "data": {
      "image/png": "[encoded data removed]",
      "text/plain": [
       "<matplotlib.figure.Figure at 0x120899588>"
      ]
     },
     "metadata": {},
     "output_type": "display_data"
    }
   ],
   "source": [
    "f = .3\n",
    "width, height = (max(hg.RA_ICRS) - min(hg.RA_ICRS)), (max(hg.DE_ICRS) - min(hg.DE_ICRS))\n",
    "plt.figure(figsize=(width*f, height*f))\n",
    "plt.scatter(hg.RA_ICRS, hg.DE_ICRS, s=30, zorder=0, alpha=.5)\n",
    "plt.scatter(hartman.ra, hartman.dec, s=25, zorder=1, alpha=.5)\n",
    "plt.xlabel(\"$\\mathrm{RA~[Degrees]}$\")\n",
    "plt.ylabel(\"$\\mathrm{Dec~[Degrees]}$\")\n",
    "plt.xlim(48, 87)\n",
    "plt.ylim(-1, 36)"
   ]
  },
  {
   "cell_type": "markdown",
   "metadata": {},
   "source": [
    "Find the closest stars"
   ]
  },
  {
   "cell_type": "code",
   "execution_count": 344,
   "metadata": {},
   "outputs": [
    {
     "name": "stderr",
     "output_type": "stream",
     "text": [
      "100%|██████████| 515/515 [00:00<00:00, 2826.56it/s]"
     ]
    },
    {
     "name": "stdout",
     "output_type": "stream",
     "text": [
      "4 4 matches\n"
     ]
    },
    {
     "name": "stderr",
     "output_type": "stream",
     "text": [
      "\n"
     ]
    }
   ],
   "source": [
    "ind1, ind2 = find_min_dist(hg.RA_ICRS, hg.DE_ICRS, hartman.ra, hartman.dec)\n",
    "print(sum(ind1), sum(ind2), \"matches\")"
   ]
  },
  {
   "cell_type": "code",
   "execution_count": 345,
   "metadata": {},
   "outputs": [
    {
     "data": {
      "text/plain": [
       "Text(0,0.5,'dec')"
      ]
     },
     "execution_count": 345,
     "metadata": {},
     "output_type": "execute_result"
    },
    {
     "data": {
      "image/png": "[encoded data removed]",
      "text/plain": [
       "<matplotlib.figure.Figure at 0x11d861390>"
      ]
     },
     "metadata": {},
     "output_type": "display_data"
    }
   ],
   "source": [
    "plt.plot(hg.RA_ICRS, hg.DE_ICRS, \".\")\n",
    "plt.plot(hg.RA_ICRS.values[ind1], hg.DE_ICRS.values[ind1], \".\", alpha=.5)\n",
    "plt.xlabel(\"RA\")\n",
    "plt.ylabel(\"dec\")"
   ]
  },
  {
   "cell_type": "markdown",
   "metadata": {},
   "source": [
    "Now add the Hartman catalogue on to the Douglas catalogue."
   ]
  },
  {
   "cell_type": "code",
   "execution_count": 349,
   "metadata": {},
   "outputs": [
    {
     "data": {
      "text/html": [
       "<div>\n",
       "<style scoped>\n",
       "    .dataframe tbody tr th:only-of-type {\n",
       "        vertical-align: middle;\n",
       "    }\n",
       "\n",
       "    .dataframe tbody tr th {\n",
       "        vertical-align: top;\n",
       "    }\n",
       "\n",
       "    .dataframe thead th {\n",
       "        text-align: right;\n",
       "    }\n",
       "</style>\n",
       "<table border=\"1\" class=\"dataframe\">\n",
       "  <thead>\n",
       "    <tr style=\"text-align: right;\">\n",
       "      <th></th>\n",
       "      <th>Source</th>\n",
       "      <th>Cluster</th>\n",
       "      <th>RA_ICRS</th>\n",
       "      <th>DE_ICRS</th>\n",
       "      <th>Gmag</th>\n",
       "      <th>plx</th>\n",
       "      <th>e_plx</th>\n",
       "      <th>_RA.icrs</th>\n",
       "      <th>_DE.icrs</th>\n",
       "      <th>source_id</th>\n",
       "    </tr>\n",
       "  </thead>\n",
       "  <tbody>\n",
       "    <tr>\n",
       "      <th>254</th>\n",
       "      <td>119219294181874048</td>\n",
       "      <td>Hyades</td>\n",
       "      <td>50.63270</td>\n",
       "      <td>28.97455</td>\n",
       "      <td>13.858</td>\n",
       "      <td>20.868</td>\n",
       "      <td>0.015</td>\n",
       "      <td>50.63270</td>\n",
       "      <td>28.97455</td>\n",
       "      <td>119219294181874048</td>\n",
       "    </tr>\n",
       "    <tr>\n",
       "      <th>443</th>\n",
       "      <td>148183866430358016</td>\n",
       "      <td>Hyades</td>\n",
       "      <td>70.03892</td>\n",
       "      <td>25.59213</td>\n",
       "      <td>10.089</td>\n",
       "      <td>22.591</td>\n",
       "      <td>0.033</td>\n",
       "      <td>70.03892</td>\n",
       "      <td>25.59213</td>\n",
       "      <td>148183866430358016</td>\n",
       "    </tr>\n",
       "    <tr>\n",
       "      <th>464</th>\n",
       "      <td>151312419393052032</td>\n",
       "      <td>Hyades</td>\n",
       "      <td>67.29628</td>\n",
       "      <td>26.24652</td>\n",
       "      <td>12.065</td>\n",
       "      <td>20.933</td>\n",
       "      <td>0.010</td>\n",
       "      <td>67.29628</td>\n",
       "      <td>26.24652</td>\n",
       "      <td>151312419393052032</td>\n",
       "    </tr>\n",
       "    <tr>\n",
       "      <th>475</th>\n",
       "      <td>168774798644094592</td>\n",
       "      <td>Hyades</td>\n",
       "      <td>59.13855</td>\n",
       "      <td>31.95661</td>\n",
       "      <td>12.733</td>\n",
       "      <td>20.630</td>\n",
       "      <td>0.039</td>\n",
       "      <td>59.13855</td>\n",
       "      <td>31.95661</td>\n",
       "      <td>168774798644094592</td>\n",
       "    </tr>\n",
       "  </tbody>\n",
       "</table>\n",
       "</div>"
      ],
      "text/plain": [
       "                 Source   Cluster   RA_ICRS   DE_ICRS    Gmag     plx  e_plx  \\\n",
       "254  119219294181874048  Hyades    50.63270  28.97455  13.858  20.868  0.015   \n",
       "443  148183866430358016  Hyades    70.03892  25.59213  10.089  22.591  0.033   \n",
       "464  151312419393052032  Hyades    67.29628  26.24652  12.065  20.933  0.010   \n",
       "475  168774798644094592  Hyades    59.13855  31.95661  12.733  20.630  0.039   \n",
       "\n",
       "     _RA.icrs  _DE.icrs           source_id  \n",
       "254  50.63270  28.97455  119219294181874048  \n",
       "443  70.03892  25.59213  148183866430358016  \n",
       "464  67.29628  26.24652  151312419393052032  \n",
       "475  59.13855  31.95661  168774798644094592  "
      ]
     },
     "execution_count": 349,
     "metadata": {},
     "output_type": "execute_result"
    }
   ],
   "source": [
    "hg.iloc[ind1]"
   ]
  },
  {
   "cell_type": "code",
   "execution_count": 350,
   "metadata": {},
   "outputs": [
    {
     "data": {
      "text/html": [
       "<div>\n",
       "<style scoped>\n",
       "    .dataframe tbody tr th:only-of-type {\n",
       "        vertical-align: middle;\n",
       "    }\n",
       "\n",
       "    .dataframe tbody tr th {\n",
       "        vertical-align: top;\n",
       "    }\n",
       "\n",
       "    .dataframe thead th {\n",
       "        text-align: right;\n",
       "    }\n",
       "</style>\n",
       "<table border=\"1\" class=\"dataframe\">\n",
       "  <thead>\n",
       "    <tr style=\"text-align: right;\">\n",
       "      <th></th>\n",
       "      <th>dec</th>\n",
       "      <th>hmag</th>\n",
       "      <th>jmag</th>\n",
       "      <th>kmag</th>\n",
       "      <th>prot</th>\n",
       "      <th>ra</th>\n",
       "      <th>vmag</th>\n",
       "    </tr>\n",
       "  </thead>\n",
       "  <tbody>\n",
       "    <tr>\n",
       "      <th>1566</th>\n",
       "      <td>28.974778</td>\n",
       "      <td>10.195</td>\n",
       "      <td>10.823</td>\n",
       "      <td>9.939</td>\n",
       "      <td>1.925813</td>\n",
       "      <td>50.631917</td>\n",
       "      <td>15.175</td>\n",
       "    </tr>\n",
       "    <tr>\n",
       "      <th>1581</th>\n",
       "      <td>31.956889</td>\n",
       "      <td>9.188</td>\n",
       "      <td>9.795</td>\n",
       "      <td>8.944</td>\n",
       "      <td></td>\n",
       "      <td>59.137833</td>\n",
       "      <td>14.122</td>\n",
       "    </tr>\n",
       "    <tr>\n",
       "      <th>1885</th>\n",
       "      <td>25.592417</td>\n",
       "      <td>7.583</td>\n",
       "      <td>8.168</td>\n",
       "      <td>7.385</td>\n",
       "      <td>5.620124</td>\n",
       "      <td>70.038375</td>\n",
       "      <td>10.626</td>\n",
       "    </tr>\n",
       "    <tr>\n",
       "      <th>1886</th>\n",
       "      <td>26.246806</td>\n",
       "      <td>9.038</td>\n",
       "      <td>9.680</td>\n",
       "      <td>8.827</td>\n",
       "      <td>18.316511</td>\n",
       "      <td>67.295708</td>\n",
       "      <td>12.889</td>\n",
       "    </tr>\n",
       "  </tbody>\n",
       "</table>\n",
       "</div>"
      ],
      "text/plain": [
       "            dec    hmag    jmag   kmag        prot         ra    vmag\n",
       "1566  28.974778  10.195  10.823  9.939    1.925813  50.631917  15.175\n",
       "1581  31.956889   9.188   9.795  8.944              59.137833  14.122\n",
       "1885  25.592417   7.583   8.168  7.385    5.620124  70.038375  10.626\n",
       "1886  26.246806   9.038   9.680  8.827   18.316511  67.295708  12.889"
      ]
     },
     "execution_count": 350,
     "metadata": {},
     "output_type": "execute_result"
    }
   ],
   "source": [
    "hartman.iloc[ind2]"
   ]
  },
  {
   "cell_type": "code",
   "execution_count": 363,
   "metadata": {},
   "outputs": [
    {
     "name": "stderr",
     "output_type": "stream",
     "text": [
      "/Users/ruthangus/anaconda/lib/python3.5/site-packages/ipykernel/__main__.py:2: SettingWithCopyWarning: \n",
      "A value is trying to be set on a copy of a slice from a DataFrame.\n",
      "Try using .loc[row_indexer,col_indexer] = value instead\n",
      "\n",
      "See the caveats in the documentation: http://pandas.pydata.org/pandas-docs/stable/indexing.html#indexing-view-versus-copy\n",
      "  from ipykernel import kernelapp as app\n"
     ]
    }
   ],
   "source": [
    "hart_gaia = hartman.iloc[ind2]\n",
    "hart_gaia[\"source_id\"] = hg.iloc[ind1].source_id.values"
   ]
  },
  {
   "cell_type": "code",
   "execution_count": 367,
   "metadata": {},
   "outputs": [
    {
     "name": "stdout",
     "output_type": "stream",
     "text": [
      "(73, 38) (4, 8) (77, 42)\n"
     ]
    }
   ],
   "source": [
    "df1 = pd.merge(douglas, hart_gaia, how=\"outer\")\n",
    "df1.prot\n",
    "print(np.shape(douglas), np.shape(hart_gaia), np.shape(df1))"
   ]
  },
  {
   "cell_type": "code",
   "execution_count": 368,
   "metadata": {},
   "outputs": [
    {
     "data": {
      "text/plain": [
       "<matplotlib.legend.Legend at 0x11a2d8be0>"
      ]
     },
     "execution_count": 368,
     "metadata": {},
     "output_type": "execute_result"
    },
    {
     "data": {
      "image/png": "[encoded data removed]",
      "text/plain": [
       "<matplotlib.figure.Figure at 0x104355be0>"
      ]
     },
     "metadata": {},
     "output_type": "display_data"
    }
   ],
   "source": [
    "plt.figure(figsize=(width*f, height*f))\n",
    "plt.scatter(df1.iloc[:73].ra, df1.iloc[:73].dec, s=30, zorder=0, label=\"Douglas\")\n",
    "plt.scatter(df1.iloc[73:].ra, df1.iloc[73:].dec, s=30, zorder=1, label=\"Hartman\")\n",
    "plt.xlabel(\"$\\mathrm{RA~[Degrees]}$\")\n",
    "plt.ylabel(\"$\\mathrm{Dec~[Degrees]}$\")\n",
    "plt.xlim(48, 87)\n",
    "plt.ylim(-1, 36)\n",
    "plt.legend()"
   ]
  },
  {
   "cell_type": "markdown",
   "metadata": {},
   "source": [
    "# Gaia and Delorme"
   ]
  },
  {
   "cell_type": "markdown",
   "metadata": {},
   "source": [
    "Delorme has J-Ks colour, V-band magnitudes and the Period column is called \"Per\"."
   ]
  },
  {
   "cell_type": "code",
   "execution_count": 369,
   "metadata": {},
   "outputs": [
    {
     "data": {
      "text/html": [
       "<div>\n",
       "<style scoped>\n",
       "    .dataframe tbody tr th:only-of-type {\n",
       "        vertical-align: middle;\n",
       "    }\n",
       "\n",
       "    .dataframe tbody tr th {\n",
       "        vertical-align: top;\n",
       "    }\n",
       "\n",
       "    .dataframe thead th {\n",
       "        text-align: right;\n",
       "    }\n",
       "</style>\n",
       "<table border=\"1\" class=\"dataframe\">\n",
       "  <thead>\n",
       "    <tr style=\"text-align: right;\">\n",
       "      <th></th>\n",
       "      <th>B-V</th>\n",
       "      <th>J-Ks</th>\n",
       "      <th>Ks</th>\n",
       "      <th>dec</th>\n",
       "      <th>prot</th>\n",
       "      <th>ra</th>\n",
       "      <th>vmag</th>\n",
       "    </tr>\n",
       "  </thead>\n",
       "  <tbody>\n",
       "    <tr>\n",
       "      <th>0</th>\n",
       "      <td>0.92</td>\n",
       "      <td>0.524</td>\n",
       "      <td>7.12</td>\n",
       "      <td>21.34317</td>\n",
       "      <td>10.57</td>\n",
       "      <td>54.39571</td>\n",
       "      <td>9.30</td>\n",
       "    </tr>\n",
       "    <tr>\n",
       "      <th>1</th>\n",
       "      <td>0.90</td>\n",
       "      <td>0.871</td>\n",
       "      <td>9.61</td>\n",
       "      <td>20.86011</td>\n",
       "      <td>12.30</td>\n",
       "      <td>55.94612</td>\n",
       "      <td></td>\n",
       "    </tr>\n",
       "    <tr>\n",
       "      <th>2</th>\n",
       "      <td>1.54</td>\n",
       "      <td>0.858</td>\n",
       "      <td>9.01</td>\n",
       "      <td>11.26072</td>\n",
       "      <td>13.29</td>\n",
       "      <td>58.14296</td>\n",
       "      <td></td>\n",
       "    </tr>\n",
       "    <tr>\n",
       "      <th>3</th>\n",
       "      <td>1.58</td>\n",
       "      <td>0.905</td>\n",
       "      <td>9.06</td>\n",
       "      <td>16.31564</td>\n",
       "      <td>6.04</td>\n",
       "      <td>58.72167</td>\n",
       "      <td></td>\n",
       "    </tr>\n",
       "    <tr>\n",
       "      <th>4</th>\n",
       "      <td>1.07</td>\n",
       "      <td>0.607</td>\n",
       "      <td>7.57</td>\n",
       "      <td>12.48558</td>\n",
       "      <td>11.66</td>\n",
       "      <td>58.75596</td>\n",
       "      <td>10.00</td>\n",
       "    </tr>\n",
       "  </tbody>\n",
       "</table>\n",
       "</div>"
      ],
      "text/plain": [
       "     B-V   J-Ks    Ks       dec   prot        ra   vmag\n",
       "0   0.92  0.524  7.12  21.34317  10.57  54.39571   9.30\n",
       "1   0.90  0.871  9.61  20.86011  12.30  55.94612       \n",
       "2   1.54  0.858  9.01  11.26072  13.29  58.14296       \n",
       "3   1.58  0.905  9.06  16.31564   6.04  58.72167       \n",
       "4   1.07  0.607  7.57  12.48558  11.66  58.75596  10.00"
      ]
     },
     "execution_count": 369,
     "metadata": {},
     "output_type": "execute_result"
    }
   ],
   "source": [
    "delorme.head()"
   ]
  },
  {
   "cell_type": "code",
   "execution_count": null,
   "metadata": {},
   "outputs": [],
   "source": [
    "f = .3\n",
    "width, height = (max(hg.RA_ICRS) - min(hg.RA_ICRS)), (max(hg.DE_ICRS) - min(hg.DE_ICRS))\n",
    "plt.figure(figsize=(width*f, height*f))\n",
    "plt.scatter(hg.RA_ICRS, hg.DE_ICRS, s=30, zorder=0, alpha=.5)\n",
    "plt.scatter(delorme.ra, delorme.dec, s=25, zorder=1, alpha=.5)\n",
    "plt.xlabel(\"$\\mathrm{RA~[Degrees]}$\")\n",
    "plt.ylabel(\"$\\mathrm{Dec~[Degrees]}$\")\n",
    "plt.xlim(48, 87)\n",
    "plt.ylim(-1, 36)\n",
    "\n",
    "print(len(hg.source_id.values), len(np.unique(hg.source_id.values)))"
   ]
  },
  {
   "cell_type": "markdown",
   "metadata": {},
   "source": [
    "Find the closest stars."
   ]
  },
  {
   "cell_type": "code",
   "execution_count": 373,
   "metadata": {},
   "outputs": [
    {
     "name": "stderr",
     "output_type": "stream",
     "text": [
      "100%|██████████| 515/515 [00:00<00:00, 12545.32it/s]"
     ]
    },
    {
     "name": "stdout",
     "output_type": "stream",
     "text": [
      "47 45 matches\n"
     ]
    },
    {
     "name": "stderr",
     "output_type": "stream",
     "text": [
      "\n"
     ]
    }
   ],
   "source": [
    "ind1, ind2 = find_min_dist(hg.RA_ICRS, hg.DE_ICRS, delorme.ra, delorme.dec)\n",
    "print(sum(ind1), sum(ind2), \"matches\")"
   ]
  },
  {
   "cell_type": "code",
   "execution_count": 374,
   "metadata": {},
   "outputs": [
    {
     "data": {
      "text/plain": [
       "Text(0,0.5,'dec')"
      ]
     },
     "execution_count": 374,
     "metadata": {},
     "output_type": "execute_result"
    },
    {
     "data": {
      "image/png": "[encoded data removed]",
      "text/plain": [
       "<matplotlib.figure.Figure at 0x11d935240>"
      ]
     },
     "metadata": {},
     "output_type": "display_data"
    }
   ],
   "source": [
    "plt.plot(hg.RA_ICRS, hg.DE_ICRS, \".\")\n",
    "plt.plot(hg.RA_ICRS.values[ind1], hg.DE_ICRS.values[ind1], \".\", alpha=.5)\n",
    "plt.xlabel(\"RA\")\n",
    "plt.ylabel(\"dec\")"
   ]
  },
  {
   "cell_type": "markdown",
   "metadata": {},
   "source": [
    "Add Delorme to the catalogue."
   ]
  },
  {
   "cell_type": "code",
   "execution_count": 379,
   "metadata": {},
   "outputs": [],
   "source": [
    "de_gaia = delorme.iloc[ind2]"
   ]
  },
  {
   "cell_type": "code",
   "execution_count": 378,
   "metadata": {},
   "outputs": [
    {
     "ename": "ValueError",
     "evalue": "Length of values does not match length of index",
     "output_type": "error",
     "traceback": [
      "\u001b[0;31m---------------------------------------------------------------------------\u001b[0m",
      "\u001b[0;31mValueError\u001b[0m                                Traceback (most recent call last)",
      "\u001b[0;32m<ipython-input-378-d53cb0507b13>\u001b[0m in \u001b[0;36m<module>\u001b[0;34m()\u001b[0m\n\u001b[0;32m----> 1\u001b[0;31m \u001b[0mde_gaia\u001b[0m\u001b[0;34m[\u001b[0m\u001b[0;34m\"source_id\"\u001b[0m\u001b[0;34m]\u001b[0m \u001b[0;34m=\u001b[0m \u001b[0mhg\u001b[0m\u001b[0;34m.\u001b[0m\u001b[0miloc\u001b[0m\u001b[0;34m[\u001b[0m\u001b[0mind1\u001b[0m\u001b[0;34m]\u001b[0m\u001b[0;34m.\u001b[0m\u001b[0msource_id\u001b[0m\u001b[0;34m.\u001b[0m\u001b[0mvalues\u001b[0m\u001b[0;34m\u001b[0m\u001b[0m\n\u001b[0m",
      "\u001b[0;32m/Users/ruthangus/anaconda/lib/python3.5/site-packages/pandas/core/frame.py\u001b[0m in \u001b[0;36m__setitem__\u001b[0;34m(self, key, value)\u001b[0m\n\u001b[1;32m   2517\u001b[0m         \u001b[0;32melse\u001b[0m\u001b[0;34m:\u001b[0m\u001b[0;34m\u001b[0m\u001b[0m\n\u001b[1;32m   2518\u001b[0m             \u001b[0;31m# set column\u001b[0m\u001b[0;34m\u001b[0m\u001b[0;34m\u001b[0m\u001b[0m\n\u001b[0;32m-> 2519\u001b[0;31m             \u001b[0mself\u001b[0m\u001b[0;34m.\u001b[0m\u001b[0m_set_item\u001b[0m\u001b[0;34m(\u001b[0m\u001b[0mkey\u001b[0m\u001b[0;34m,\u001b[0m \u001b[0mvalue\u001b[0m\u001b[0;34m)\u001b[0m\u001b[0;34m\u001b[0m\u001b[0m\n\u001b[0m\u001b[1;32m   2520\u001b[0m \u001b[0;34m\u001b[0m\u001b[0m\n\u001b[1;32m   2521\u001b[0m     \u001b[0;32mdef\u001b[0m \u001b[0m_setitem_slice\u001b[0m\u001b[0;34m(\u001b[0m\u001b[0mself\u001b[0m\u001b[0;34m,\u001b[0m \u001b[0mkey\u001b[0m\u001b[0;34m,\u001b[0m \u001b[0mvalue\u001b[0m\u001b[0;34m)\u001b[0m\u001b[0;34m:\u001b[0m\u001b[0;34m\u001b[0m\u001b[0m\n",
      "\u001b[0;32m/Users/ruthangus/anaconda/lib/python3.5/site-packages/pandas/core/frame.py\u001b[0m in \u001b[0;36m_set_item\u001b[0;34m(self, key, value)\u001b[0m\n\u001b[1;32m   2583\u001b[0m \u001b[0;34m\u001b[0m\u001b[0m\n\u001b[1;32m   2584\u001b[0m         \u001b[0mself\u001b[0m\u001b[0;34m.\u001b[0m\u001b[0m_ensure_valid_index\u001b[0m\u001b[0;34m(\u001b[0m\u001b[0mvalue\u001b[0m\u001b[0;34m)\u001b[0m\u001b[0;34m\u001b[0m\u001b[0m\n\u001b[0;32m-> 2585\u001b[0;31m         \u001b[0mvalue\u001b[0m \u001b[0;34m=\u001b[0m \u001b[0mself\u001b[0m\u001b[0;34m.\u001b[0m\u001b[0m_sanitize_column\u001b[0m\u001b[0;34m(\u001b[0m\u001b[0mkey\u001b[0m\u001b[0;34m,\u001b[0m \u001b[0mvalue\u001b[0m\u001b[0;34m)\u001b[0m\u001b[0;34m\u001b[0m\u001b[0m\n\u001b[0m\u001b[1;32m   2586\u001b[0m         \u001b[0mNDFrame\u001b[0m\u001b[0;34m.\u001b[0m\u001b[0m_set_item\u001b[0m\u001b[0;34m(\u001b[0m\u001b[0mself\u001b[0m\u001b[0;34m,\u001b[0m \u001b[0mkey\u001b[0m\u001b[0;34m,\u001b[0m \u001b[0mvalue\u001b[0m\u001b[0;34m)\u001b[0m\u001b[0;34m\u001b[0m\u001b[0m\n\u001b[1;32m   2587\u001b[0m \u001b[0;34m\u001b[0m\u001b[0m\n",
      "\u001b[0;32m/Users/ruthangus/anaconda/lib/python3.5/site-packages/pandas/core/frame.py\u001b[0m in \u001b[0;36m_sanitize_column\u001b[0;34m(self, key, value, broadcast)\u001b[0m\n\u001b[1;32m   2758\u001b[0m \u001b[0;34m\u001b[0m\u001b[0m\n\u001b[1;32m   2759\u001b[0m             \u001b[0;31m# turn me into an ndarray\u001b[0m\u001b[0;34m\u001b[0m\u001b[0;34m\u001b[0m\u001b[0m\n\u001b[0;32m-> 2760\u001b[0;31m             \u001b[0mvalue\u001b[0m \u001b[0;34m=\u001b[0m \u001b[0m_sanitize_index\u001b[0m\u001b[0;34m(\u001b[0m\u001b[0mvalue\u001b[0m\u001b[0;34m,\u001b[0m \u001b[0mself\u001b[0m\u001b[0;34m.\u001b[0m\u001b[0mindex\u001b[0m\u001b[0;34m,\u001b[0m \u001b[0mcopy\u001b[0m\u001b[0;34m=\u001b[0m\u001b[0;32mFalse\u001b[0m\u001b[0;34m)\u001b[0m\u001b[0;34m\u001b[0m\u001b[0m\n\u001b[0m\u001b[1;32m   2761\u001b[0m             \u001b[0;32mif\u001b[0m \u001b[0;32mnot\u001b[0m \u001b[0misinstance\u001b[0m\u001b[0;34m(\u001b[0m\u001b[0mvalue\u001b[0m\u001b[0;34m,\u001b[0m \u001b[0;34m(\u001b[0m\u001b[0mnp\u001b[0m\u001b[0;34m.\u001b[0m\u001b[0mndarray\u001b[0m\u001b[0;34m,\u001b[0m \u001b[0mIndex\u001b[0m\u001b[0;34m)\u001b[0m\u001b[0;34m)\u001b[0m\u001b[0;34m:\u001b[0m\u001b[0;34m\u001b[0m\u001b[0m\n\u001b[1;32m   2762\u001b[0m                 \u001b[0;32mif\u001b[0m \u001b[0misinstance\u001b[0m\u001b[0;34m(\u001b[0m\u001b[0mvalue\u001b[0m\u001b[0;34m,\u001b[0m \u001b[0mlist\u001b[0m\u001b[0;34m)\u001b[0m \u001b[0;32mand\u001b[0m \u001b[0mlen\u001b[0m\u001b[0;34m(\u001b[0m\u001b[0mvalue\u001b[0m\u001b[0;34m)\u001b[0m \u001b[0;34m>\u001b[0m \u001b[0;36m0\u001b[0m\u001b[0;34m:\u001b[0m\u001b[0;34m\u001b[0m\u001b[0m\n",
      "\u001b[0;32m/Users/ruthangus/anaconda/lib/python3.5/site-packages/pandas/core/series.py\u001b[0m in \u001b[0;36m_sanitize_index\u001b[0;34m(data, index, copy)\u001b[0m\n\u001b[1;32m   3119\u001b[0m \u001b[0;34m\u001b[0m\u001b[0m\n\u001b[1;32m   3120\u001b[0m     \u001b[0;32mif\u001b[0m \u001b[0mlen\u001b[0m\u001b[0;34m(\u001b[0m\u001b[0mdata\u001b[0m\u001b[0;34m)\u001b[0m \u001b[0;34m!=\u001b[0m \u001b[0mlen\u001b[0m\u001b[0;34m(\u001b[0m\u001b[0mindex\u001b[0m\u001b[0;34m)\u001b[0m\u001b[0;34m:\u001b[0m\u001b[0;34m\u001b[0m\u001b[0m\n\u001b[0;32m-> 3121\u001b[0;31m         \u001b[0;32mraise\u001b[0m \u001b[0mValueError\u001b[0m\u001b[0;34m(\u001b[0m\u001b[0;34m'Length of values does not match length of '\u001b[0m \u001b[0;34m'index'\u001b[0m\u001b[0;34m)\u001b[0m\u001b[0;34m\u001b[0m\u001b[0m\n\u001b[0m\u001b[1;32m   3122\u001b[0m \u001b[0;34m\u001b[0m\u001b[0m\n\u001b[1;32m   3123\u001b[0m     \u001b[0;32mif\u001b[0m \u001b[0misinstance\u001b[0m\u001b[0;34m(\u001b[0m\u001b[0mdata\u001b[0m\u001b[0;34m,\u001b[0m \u001b[0mPeriodIndex\u001b[0m\u001b[0;34m)\u001b[0m\u001b[0;34m:\u001b[0m\u001b[0;34m\u001b[0m\u001b[0m\n",
      "\u001b[0;31mValueError\u001b[0m: Length of values does not match length of index"
     ]
    }
   ],
   "source": [
    "de_gaia[\"source_id\"] = hg.iloc[ind1].source_id.values\n"
   ]
  },
  {
   "cell_type": "code",
   "execution_count": 376,
   "metadata": {},
   "outputs": [
    {
     "ename": "ValueError",
     "evalue": "Length of values does not match length of index",
     "output_type": "error",
     "traceback": [
      "\u001b[0;31m---------------------------------------------------------------------------\u001b[0m",
      "\u001b[0;31mValueError\u001b[0m                                Traceback (most recent call last)",
      "\u001b[0;32m<ipython-input-376-94080412cf4e>\u001b[0m in \u001b[0;36m<module>\u001b[0;34m()\u001b[0m\n\u001b[0;32m----> 1\u001b[0;31m \u001b[0mde_gaia\u001b[0m\u001b[0;34m[\u001b[0m\u001b[0;34m\"source_id\"\u001b[0m\u001b[0;34m]\u001b[0m \u001b[0;34m=\u001b[0m \u001b[0mhg\u001b[0m\u001b[0;34m.\u001b[0m\u001b[0miloc\u001b[0m\u001b[0;34m[\u001b[0m\u001b[0mind1\u001b[0m\u001b[0;34m]\u001b[0m\u001b[0;34m.\u001b[0m\u001b[0msource_id\u001b[0m\u001b[0;34m.\u001b[0m\u001b[0mvalues\u001b[0m\u001b[0;34m\u001b[0m\u001b[0m\n\u001b[0m\u001b[1;32m      2\u001b[0m \u001b[0;34m\u001b[0m\u001b[0m\n\u001b[1;32m      3\u001b[0m \u001b[0mdf2\u001b[0m \u001b[0;34m=\u001b[0m \u001b[0mpd\u001b[0m\u001b[0;34m.\u001b[0m\u001b[0mmerge\u001b[0m\u001b[0;34m(\u001b[0m\u001b[0;34m(\u001b[0m\u001b[0mdf1\u001b[0m\u001b[0;34m,\u001b[0m \u001b[0mde_gaia\u001b[0m\u001b[0;34m)\u001b[0m\u001b[0;34m,\u001b[0m \u001b[0mhow\u001b[0m\u001b[0;34m=\u001b[0m\u001b[0;34m\"outer\"\u001b[0m\u001b[0;34m)\u001b[0m\u001b[0;34m\u001b[0m\u001b[0m\n\u001b[1;32m      4\u001b[0m \u001b[0mprint\u001b[0m\u001b[0;34m(\u001b[0m\u001b[0mnp\u001b[0m\u001b[0;34m.\u001b[0m\u001b[0mshape\u001b[0m\u001b[0;34m(\u001b[0m\u001b[0mdf1\u001b[0m\u001b[0;34m)\u001b[0m\u001b[0;34m,\u001b[0m \u001b[0mnp\u001b[0m\u001b[0;34m.\u001b[0m\u001b[0mshape\u001b[0m\u001b[0;34m(\u001b[0m\u001b[0mdelorme_gaia\u001b[0m\u001b[0;34m)\u001b[0m\u001b[0;34m,\u001b[0m \u001b[0mnp\u001b[0m\u001b[0;34m.\u001b[0m\u001b[0mshape\u001b[0m\u001b[0;34m(\u001b[0m\u001b[0mdf2\u001b[0m\u001b[0;34m)\u001b[0m\u001b[0;34m)\u001b[0m\u001b[0;34m\u001b[0m\u001b[0m\n",
      "\u001b[0;32m/Users/ruthangus/anaconda/lib/python3.5/site-packages/pandas/core/frame.py\u001b[0m in \u001b[0;36m__setitem__\u001b[0;34m(self, key, value)\u001b[0m\n\u001b[1;32m   2517\u001b[0m         \u001b[0;32melse\u001b[0m\u001b[0;34m:\u001b[0m\u001b[0;34m\u001b[0m\u001b[0m\n\u001b[1;32m   2518\u001b[0m             \u001b[0;31m# set column\u001b[0m\u001b[0;34m\u001b[0m\u001b[0;34m\u001b[0m\u001b[0m\n\u001b[0;32m-> 2519\u001b[0;31m             \u001b[0mself\u001b[0m\u001b[0;34m.\u001b[0m\u001b[0m_set_item\u001b[0m\u001b[0;34m(\u001b[0m\u001b[0mkey\u001b[0m\u001b[0;34m,\u001b[0m \u001b[0mvalue\u001b[0m\u001b[0;34m)\u001b[0m\u001b[0;34m\u001b[0m\u001b[0m\n\u001b[0m\u001b[1;32m   2520\u001b[0m \u001b[0;34m\u001b[0m\u001b[0m\n\u001b[1;32m   2521\u001b[0m     \u001b[0;32mdef\u001b[0m \u001b[0m_setitem_slice\u001b[0m\u001b[0;34m(\u001b[0m\u001b[0mself\u001b[0m\u001b[0;34m,\u001b[0m \u001b[0mkey\u001b[0m\u001b[0;34m,\u001b[0m \u001b[0mvalue\u001b[0m\u001b[0;34m)\u001b[0m\u001b[0;34m:\u001b[0m\u001b[0;34m\u001b[0m\u001b[0m\n",
      "\u001b[0;32m/Users/ruthangus/anaconda/lib/python3.5/site-packages/pandas/core/frame.py\u001b[0m in \u001b[0;36m_set_item\u001b[0;34m(self, key, value)\u001b[0m\n\u001b[1;32m   2583\u001b[0m \u001b[0;34m\u001b[0m\u001b[0m\n\u001b[1;32m   2584\u001b[0m         \u001b[0mself\u001b[0m\u001b[0;34m.\u001b[0m\u001b[0m_ensure_valid_index\u001b[0m\u001b[0;34m(\u001b[0m\u001b[0mvalue\u001b[0m\u001b[0;34m)\u001b[0m\u001b[0;34m\u001b[0m\u001b[0m\n\u001b[0;32m-> 2585\u001b[0;31m         \u001b[0mvalue\u001b[0m \u001b[0;34m=\u001b[0m \u001b[0mself\u001b[0m\u001b[0;34m.\u001b[0m\u001b[0m_sanitize_column\u001b[0m\u001b[0;34m(\u001b[0m\u001b[0mkey\u001b[0m\u001b[0;34m,\u001b[0m \u001b[0mvalue\u001b[0m\u001b[0;34m)\u001b[0m\u001b[0;34m\u001b[0m\u001b[0m\n\u001b[0m\u001b[1;32m   2586\u001b[0m         \u001b[0mNDFrame\u001b[0m\u001b[0;34m.\u001b[0m\u001b[0m_set_item\u001b[0m\u001b[0;34m(\u001b[0m\u001b[0mself\u001b[0m\u001b[0;34m,\u001b[0m \u001b[0mkey\u001b[0m\u001b[0;34m,\u001b[0m \u001b[0mvalue\u001b[0m\u001b[0;34m)\u001b[0m\u001b[0;34m\u001b[0m\u001b[0m\n\u001b[1;32m   2587\u001b[0m \u001b[0;34m\u001b[0m\u001b[0m\n",
      "\u001b[0;32m/Users/ruthangus/anaconda/lib/python3.5/site-packages/pandas/core/frame.py\u001b[0m in \u001b[0;36m_sanitize_column\u001b[0;34m(self, key, value, broadcast)\u001b[0m\n\u001b[1;32m   2758\u001b[0m \u001b[0;34m\u001b[0m\u001b[0m\n\u001b[1;32m   2759\u001b[0m             \u001b[0;31m# turn me into an ndarray\u001b[0m\u001b[0;34m\u001b[0m\u001b[0;34m\u001b[0m\u001b[0m\n\u001b[0;32m-> 2760\u001b[0;31m             \u001b[0mvalue\u001b[0m \u001b[0;34m=\u001b[0m \u001b[0m_sanitize_index\u001b[0m\u001b[0;34m(\u001b[0m\u001b[0mvalue\u001b[0m\u001b[0;34m,\u001b[0m \u001b[0mself\u001b[0m\u001b[0;34m.\u001b[0m\u001b[0mindex\u001b[0m\u001b[0;34m,\u001b[0m \u001b[0mcopy\u001b[0m\u001b[0;34m=\u001b[0m\u001b[0;32mFalse\u001b[0m\u001b[0;34m)\u001b[0m\u001b[0;34m\u001b[0m\u001b[0m\n\u001b[0m\u001b[1;32m   2761\u001b[0m             \u001b[0;32mif\u001b[0m \u001b[0;32mnot\u001b[0m \u001b[0misinstance\u001b[0m\u001b[0;34m(\u001b[0m\u001b[0mvalue\u001b[0m\u001b[0;34m,\u001b[0m \u001b[0;34m(\u001b[0m\u001b[0mnp\u001b[0m\u001b[0;34m.\u001b[0m\u001b[0mndarray\u001b[0m\u001b[0;34m,\u001b[0m \u001b[0mIndex\u001b[0m\u001b[0;34m)\u001b[0m\u001b[0;34m)\u001b[0m\u001b[0;34m:\u001b[0m\u001b[0;34m\u001b[0m\u001b[0m\n\u001b[1;32m   2762\u001b[0m                 \u001b[0;32mif\u001b[0m \u001b[0misinstance\u001b[0m\u001b[0;34m(\u001b[0m\u001b[0mvalue\u001b[0m\u001b[0;34m,\u001b[0m \u001b[0mlist\u001b[0m\u001b[0;34m)\u001b[0m \u001b[0;32mand\u001b[0m \u001b[0mlen\u001b[0m\u001b[0;34m(\u001b[0m\u001b[0mvalue\u001b[0m\u001b[0;34m)\u001b[0m \u001b[0;34m>\u001b[0m \u001b[0;36m0\u001b[0m\u001b[0;34m:\u001b[0m\u001b[0;34m\u001b[0m\u001b[0m\n",
      "\u001b[0;32m/Users/ruthangus/anaconda/lib/python3.5/site-packages/pandas/core/series.py\u001b[0m in \u001b[0;36m_sanitize_index\u001b[0;34m(data, index, copy)\u001b[0m\n\u001b[1;32m   3119\u001b[0m \u001b[0;34m\u001b[0m\u001b[0m\n\u001b[1;32m   3120\u001b[0m     \u001b[0;32mif\u001b[0m \u001b[0mlen\u001b[0m\u001b[0;34m(\u001b[0m\u001b[0mdata\u001b[0m\u001b[0;34m)\u001b[0m \u001b[0;34m!=\u001b[0m \u001b[0mlen\u001b[0m\u001b[0;34m(\u001b[0m\u001b[0mindex\u001b[0m\u001b[0;34m)\u001b[0m\u001b[0;34m:\u001b[0m\u001b[0;34m\u001b[0m\u001b[0m\n\u001b[0;32m-> 3121\u001b[0;31m         \u001b[0;32mraise\u001b[0m \u001b[0mValueError\u001b[0m\u001b[0;34m(\u001b[0m\u001b[0;34m'Length of values does not match length of '\u001b[0m \u001b[0;34m'index'\u001b[0m\u001b[0;34m)\u001b[0m\u001b[0;34m\u001b[0m\u001b[0m\n\u001b[0m\u001b[1;32m   3122\u001b[0m \u001b[0;34m\u001b[0m\u001b[0m\n\u001b[1;32m   3123\u001b[0m     \u001b[0;32mif\u001b[0m \u001b[0misinstance\u001b[0m\u001b[0;34m(\u001b[0m\u001b[0mdata\u001b[0m\u001b[0;34m,\u001b[0m \u001b[0mPeriodIndex\u001b[0m\u001b[0;34m)\u001b[0m\u001b[0;34m:\u001b[0m\u001b[0;34m\u001b[0m\u001b[0m\n",
      "\u001b[0;31mValueError\u001b[0m: Length of values does not match length of index"
     ]
    }
   ],
   "source": [
    "df2 = pd.merge((df1, de_gaia), how=\"outer\")\n",
    "print(np.shape(df1), np.shape(delorme_gaia), np.shape(df2))"
   ]
  },
  {
   "cell_type": "code",
   "execution_count": 298,
   "metadata": {},
   "outputs": [
    {
     "data": {
      "text/plain": [
       "<matplotlib.legend.Legend at 0x104362f98>"
      ]
     },
     "execution_count": 298,
     "metadata": {},
     "output_type": "execute_result"
    },
    {
     "data": {
      "image/png": "[encoded data removed]",
      "text/plain": [
       "<matplotlib.figure.Figure at 0x104348240>"
      ]
     },
     "metadata": {},
     "output_type": "display_data"
    }
   ],
   "source": [
    "plt.figure(figsize=(width*f, height*f))\n",
    "plt.scatter(df2.iloc[:73].ra, df2.iloc[:73].dec, s=30, zorder=0, alpha=.5, label=\"Douglas\")\n",
    "plt.scatter(df2.iloc[73:77].ra, df2.iloc[73:77].dec, s=30, zorder=1, alpha=.5, label=\"Hartman\")\n",
    "plt.scatter(df2.iloc[77:124].ra, df2.iloc[77:124].dec, s=30, zorder=2, alpha=.5, label=\"Delorme\")\n",
    "plt.xlabel(\"$\\mathrm{RA~[Degrees]}$\")\n",
    "plt.ylabel(\"$\\mathrm{Dec~[Degrees]}$\")\n",
    "plt.xlim(48, 87)\n",
    "plt.ylim(-1, 36)\n",
    "plt.legend()"
   ]
  },
  {
   "cell_type": "code",
   "execution_count": 299,
   "metadata": {},
   "outputs": [
    {
     "data": {
      "text/html": [
       "<div>\n",
       "<style scoped>\n",
       "    .dataframe tbody tr th:only-of-type {\n",
       "        vertical-align: middle;\n",
       "    }\n",
       "\n",
       "    .dataframe tbody tr th {\n",
       "        vertical-align: top;\n",
       "    }\n",
       "\n",
       "    .dataframe thead th {\n",
       "        text-align: right;\n",
       "    }\n",
       "</style>\n",
       "<table border=\"1\" class=\"dataframe\">\n",
       "  <thead>\n",
       "    <tr style=\"text-align: right;\">\n",
       "      <th></th>\n",
       "      <th>2M</th>\n",
       "      <th>2MASS</th>\n",
       "      <th>Amp</th>\n",
       "      <th>Ap</th>\n",
       "      <th>B-Vl</th>\n",
       "      <th>Bin</th>\n",
       "      <th>Bl</th>\n",
       "      <th>Cluster</th>\n",
       "      <th>DEJ2000</th>\n",
       "      <th>DE_ICRS</th>\n",
       "      <th>...</th>\n",
       "      <th>plxdelorme</th>\n",
       "      <th>pmDE</th>\n",
       "      <th>pmRA</th>\n",
       "      <th>prot</th>\n",
       "      <th>r_Vmag</th>\n",
       "      <th>ra</th>\n",
       "      <th>ra_err</th>\n",
       "      <th>rp</th>\n",
       "      <th>source_id</th>\n",
       "      <th>use</th>\n",
       "    </tr>\n",
       "  </thead>\n",
       "  <tbody>\n",
       "    <tr>\n",
       "      <th>0</th>\n",
       "      <td>NaN</td>\n",
       "      <td>03341053+2204213</td>\n",
       "      <td>0.008264</td>\n",
       "      <td>4.0</td>\n",
       "      <td>NaN</td>\n",
       "      <td>2.0</td>\n",
       "      <td>N</td>\n",
       "      <td>NaN</td>\n",
       "      <td>+22 04 21.2</td>\n",
       "      <td>NaN</td>\n",
       "      <td>...</td>\n",
       "      <td>NaN</td>\n",
       "      <td>NaN</td>\n",
       "      <td>NaN</td>\n",
       "      <td>1.8088</td>\n",
       "      <td>NaN</td>\n",
       "      <td>53.544861</td>\n",
       "      <td>0.084542</td>\n",
       "      <td>13.300308</td>\n",
       "      <td>64552022725337856</td>\n",
       "      <td>corr</td>\n",
       "    </tr>\n",
       "    <tr>\n",
       "      <th>1</th>\n",
       "      <td>NaN</td>\n",
       "      <td>03404581+1734477</td>\n",
       "      <td>0.020289</td>\n",
       "      <td>3.0</td>\n",
       "      <td>NaN</td>\n",
       "      <td>0.0</td>\n",
       "      <td>N</td>\n",
       "      <td>NaN</td>\n",
       "      <td>+17 34 47.7</td>\n",
       "      <td>NaN</td>\n",
       "      <td>...</td>\n",
       "      <td>NaN</td>\n",
       "      <td>NaN</td>\n",
       "      <td>NaN</td>\n",
       "      <td>0</td>\n",
       "      <td>NaN</td>\n",
       "      <td>55.191643</td>\n",
       "      <td>0.114236</td>\n",
       "      <td>14.877822</td>\n",
       "      <td>44388010264995200</td>\n",
       "      <td>corr</td>\n",
       "    </tr>\n",
       "    <tr>\n",
       "      <th>2</th>\n",
       "      <td>NaN</td>\n",
       "      <td>03420441+1625183</td>\n",
       "      <td>0.158637</td>\n",
       "      <td>2.0</td>\n",
       "      <td>NaN</td>\n",
       "      <td>0.0</td>\n",
       "      <td>Y</td>\n",
       "      <td>NaN</td>\n",
       "      <td>+16 25 18.3</td>\n",
       "      <td>NaN</td>\n",
       "      <td>...</td>\n",
       "      <td>NaN</td>\n",
       "      <td>NaN</td>\n",
       "      <td>NaN</td>\n",
       "      <td>0</td>\n",
       "      <td>NaN</td>\n",
       "      <td>55.519163</td>\n",
       "      <td>0.088386</td>\n",
       "      <td>13.567423</td>\n",
       "      <td>44052178182130816</td>\n",
       "      <td>corr</td>\n",
       "    </tr>\n",
       "    <tr>\n",
       "      <th>3</th>\n",
       "      <td>NaN</td>\n",
       "      <td>03434706+2051363</td>\n",
       "      <td>0.014581</td>\n",
       "      <td>2.5</td>\n",
       "      <td>NaN</td>\n",
       "      <td>0.0</td>\n",
       "      <td>N</td>\n",
       "      <td>NaN</td>\n",
       "      <td>+20 51 36.4</td>\n",
       "      <td>NaN</td>\n",
       "      <td>...</td>\n",
       "      <td>NaN</td>\n",
       "      <td>NaN</td>\n",
       "      <td>NaN</td>\n",
       "      <td>12.3168</td>\n",
       "      <td>NaN</td>\n",
       "      <td>55.946823</td>\n",
       "      <td>0.056599</td>\n",
       "      <td>12.140936</td>\n",
       "      <td>63395989328447232</td>\n",
       "      <td>corr</td>\n",
       "    </tr>\n",
       "    <tr>\n",
       "      <th>4</th>\n",
       "      <td>NaN</td>\n",
       "      <td>03465952+1524170</td>\n",
       "      <td>0.005815</td>\n",
       "      <td>4.0</td>\n",
       "      <td>NaN</td>\n",
       "      <td>2.0</td>\n",
       "      <td>N</td>\n",
       "      <td>NaN</td>\n",
       "      <td>+15 24 16.8</td>\n",
       "      <td>NaN</td>\n",
       "      <td>...</td>\n",
       "      <td>NaN</td>\n",
       "      <td>NaN</td>\n",
       "      <td>NaN</td>\n",
       "      <td>0.8584</td>\n",
       "      <td>NaN</td>\n",
       "      <td>56.749149</td>\n",
       "      <td>0.143451</td>\n",
       "      <td>12.665202</td>\n",
       "      <td>42947680095257344</td>\n",
       "      <td>corr</td>\n",
       "    </tr>\n",
       "  </tbody>\n",
       "</table>\n",
       "<p>5 rows × 85 columns</p>\n",
       "</div>"
      ],
      "text/plain": [
       "    2M             2MASS       Amp   Ap B-Vl  Bin Bl Cluster      DEJ2000  \\\n",
       "0  NaN  03341053+2204213  0.008264  4.0  NaN  2.0  N     NaN  +22 04 21.2   \n",
       "1  NaN  03404581+1734477  0.020289  3.0  NaN  0.0  N     NaN  +17 34 47.7   \n",
       "2  NaN  03420441+1625183  0.158637  2.0  NaN  0.0  Y     NaN  +16 25 18.3   \n",
       "3  NaN  03434706+2051363  0.014581  2.5  NaN  0.0  N     NaN  +20 51 36.4   \n",
       "4  NaN  03465952+1524170  0.005815  4.0  NaN  2.0  N     NaN  +15 24 16.8   \n",
       "\n",
       "   DE_ICRS  ...   plxdelorme  pmDE  pmRA     prot r_Vmag         ra    ra_err  \\\n",
       "0      NaN  ...          NaN   NaN   NaN   1.8088    NaN  53.544861  0.084542   \n",
       "1      NaN  ...          NaN   NaN   NaN        0    NaN  55.191643  0.114236   \n",
       "2      NaN  ...          NaN   NaN   NaN        0    NaN  55.519163  0.088386   \n",
       "3      NaN  ...          NaN   NaN   NaN  12.3168    NaN  55.946823  0.056599   \n",
       "4      NaN  ...          NaN   NaN   NaN   0.8584    NaN  56.749149  0.143451   \n",
       "\n",
       "          rp          source_id   use  \n",
       "0  13.300308  64552022725337856  corr  \n",
       "1  14.877822  44388010264995200  corr  \n",
       "2  13.567423  44052178182130816  corr  \n",
       "3  12.140936  63395989328447232  corr  \n",
       "4  12.665202  42947680095257344  corr  \n",
       "\n",
       "[5 rows x 85 columns]"
      ]
     },
     "execution_count": 299,
     "metadata": {},
     "output_type": "execute_result"
    }
   ],
   "source": [
    "df2.head()"
   ]
  },
  {
   "cell_type": "code",
   "execution_count": 300,
   "metadata": {},
   "outputs": [],
   "source": [
    "# for i in df2.keys():\n",
    "#     print(i)"
   ]
  },
  {
   "cell_type": "code",
   "execution_count": 301,
   "metadata": {},
   "outputs": [
    {
     "name": "stdout",
     "output_type": "stream",
     "text": [
      "55 124\n"
     ]
    },
    {
     "data": {
      "image/png": "[encoded data removed]",
      "text/plain": [
       "<matplotlib.figure.Figure at 0x104355b00>"
      ]
     },
     "metadata": {},
     "output_type": "display_data"
    }
   ],
   "source": [
    "m = df2.prot.values > 0.\n",
    "plt.plot(df2.bp.values[m] - df2.rp.values[m], df2.prot.values[m], \".\")\n",
    "print(len(df2.prot.values[m]), len(df2))"
   ]
  },
  {
   "cell_type": "code",
   "execution_count": 302,
   "metadata": {},
   "outputs": [],
   "source": [
    "# print(df2.source_id.values)\n",
    "source_ids_hyades = pd.DataFrame(dict({\"source_id\": df2.source_id}))\n",
    "source_ids_hyades.to_csv(\"../data/source_ids_hyades.csv\")"
   ]
  },
  {
   "cell_type": "markdown",
   "metadata": {},
   "source": [
    "After performing the following query with the above data file uploaded:\n",
    "\n",
    "SELECT *\n",
    "\n",
    "FROM user_table_name\n",
    "\n",
    "JOIN gaiadr2.gaia_source AS gaia USING (source_id)"
   ]
  },
  {
   "cell_type": "code",
   "execution_count": 303,
   "metadata": {},
   "outputs": [
    {
     "data": {
      "text/html": [
       "<div>\n",
       "<style scoped>\n",
       "    .dataframe tbody tr th:only-of-type {\n",
       "        vertical-align: middle;\n",
       "    }\n",
       "\n",
       "    .dataframe tbody tr th {\n",
       "        vertical-align: top;\n",
       "    }\n",
       "\n",
       "    .dataframe thead th {\n",
       "        text-align: right;\n",
       "    }\n",
       "</style>\n",
       "<table border=\"1\" class=\"dataframe\">\n",
       "  <thead>\n",
       "    <tr style=\"text-align: right;\">\n",
       "      <th></th>\n",
       "      <th>table2_oid</th>\n",
       "      <th>col1</th>\n",
       "      <th>solution_id</th>\n",
       "      <th>designation</th>\n",
       "      <th>random_index</th>\n",
       "      <th>ref_epoch</th>\n",
       "      <th>ra</th>\n",
       "      <th>ra_error</th>\n",
       "      <th>dec</th>\n",
       "      <th>dec_error</th>\n",
       "      <th>...</th>\n",
       "      <th>flame_flags</th>\n",
       "      <th>radius_val</th>\n",
       "      <th>radius_percentile_lower</th>\n",
       "      <th>radius_percentile_upper</th>\n",
       "      <th>lum_val</th>\n",
       "      <th>lum_percentile_lower</th>\n",
       "      <th>lum_percentile_upper</th>\n",
       "      <th>datalink_url</th>\n",
       "      <th>epoch_photometry_url</th>\n",
       "      <th>source_id</th>\n",
       "    </tr>\n",
       "  </thead>\n",
       "  <tbody>\n",
       "    <tr>\n",
       "      <th>0</th>\n",
       "      <td>1</td>\n",
       "      <td>0</td>\n",
       "      <td>1635721458409799680</td>\n",
       "      <td>Gaia DR2 64552022725337856</td>\n",
       "      <td>805628475</td>\n",
       "      <td>2015.5</td>\n",
       "      <td>53.544861</td>\n",
       "      <td>0.084542</td>\n",
       "      <td>22.072399</td>\n",
       "      <td>0.062352</td>\n",
       "      <td>...</td>\n",
       "      <td>NaN</td>\n",
       "      <td>NaN</td>\n",
       "      <td>NaN</td>\n",
       "      <td>NaN</td>\n",
       "      <td>NaN</td>\n",
       "      <td>NaN</td>\n",
       "      <td>NaN</td>\n",
       "      <td>http://geadata.esac.esa.int/data-server/datali...</td>\n",
       "      <td>NaN</td>\n",
       "      <td>64552022725337856</td>\n",
       "    </tr>\n",
       "    <tr>\n",
       "      <th>1</th>\n",
       "      <td>2</td>\n",
       "      <td>1</td>\n",
       "      <td>1635721458409799680</td>\n",
       "      <td>Gaia DR2 44388010264995200</td>\n",
       "      <td>350324408</td>\n",
       "      <td>2015.5</td>\n",
       "      <td>55.191643</td>\n",
       "      <td>0.114236</td>\n",
       "      <td>17.579829</td>\n",
       "      <td>0.088322</td>\n",
       "      <td>...</td>\n",
       "      <td>NaN</td>\n",
       "      <td>NaN</td>\n",
       "      <td>NaN</td>\n",
       "      <td>NaN</td>\n",
       "      <td>NaN</td>\n",
       "      <td>NaN</td>\n",
       "      <td>NaN</td>\n",
       "      <td>http://geadata.esac.esa.int/data-server/datali...</td>\n",
       "      <td>NaN</td>\n",
       "      <td>44388010264995200</td>\n",
       "    </tr>\n",
       "    <tr>\n",
       "      <th>2</th>\n",
       "      <td>3</td>\n",
       "      <td>2</td>\n",
       "      <td>1635721458409799680</td>\n",
       "      <td>Gaia DR2 44052178182130816</td>\n",
       "      <td>120803872</td>\n",
       "      <td>2015.5</td>\n",
       "      <td>55.519163</td>\n",
       "      <td>0.088386</td>\n",
       "      <td>16.421655</td>\n",
       "      <td>0.059111</td>\n",
       "      <td>...</td>\n",
       "      <td>NaN</td>\n",
       "      <td>NaN</td>\n",
       "      <td>NaN</td>\n",
       "      <td>NaN</td>\n",
       "      <td>NaN</td>\n",
       "      <td>NaN</td>\n",
       "      <td>NaN</td>\n",
       "      <td>http://geadata.esac.esa.int/data-server/datali...</td>\n",
       "      <td>NaN</td>\n",
       "      <td>44052178182130816</td>\n",
       "    </tr>\n",
       "    <tr>\n",
       "      <th>3</th>\n",
       "      <td>4</td>\n",
       "      <td>3</td>\n",
       "      <td>1635721458409799680</td>\n",
       "      <td>Gaia DR2 63395989328447232</td>\n",
       "      <td>378490312</td>\n",
       "      <td>2015.5</td>\n",
       "      <td>55.946823</td>\n",
       "      <td>0.056599</td>\n",
       "      <td>20.859947</td>\n",
       "      <td>0.038860</td>\n",
       "      <td>...</td>\n",
       "      <td>NaN</td>\n",
       "      <td>NaN</td>\n",
       "      <td>NaN</td>\n",
       "      <td>NaN</td>\n",
       "      <td>NaN</td>\n",
       "      <td>NaN</td>\n",
       "      <td>NaN</td>\n",
       "      <td>http://geadata.esac.esa.int/data-server/datali...</td>\n",
       "      <td>NaN</td>\n",
       "      <td>63395989328447232</td>\n",
       "    </tr>\n",
       "    <tr>\n",
       "      <th>4</th>\n",
       "      <td>5</td>\n",
       "      <td>4</td>\n",
       "      <td>1635721458409799680</td>\n",
       "      <td>Gaia DR2 42947680095257344</td>\n",
       "      <td>283438101</td>\n",
       "      <td>2015.5</td>\n",
       "      <td>56.749149</td>\n",
       "      <td>0.143451</td>\n",
       "      <td>15.404583</td>\n",
       "      <td>0.082477</td>\n",
       "      <td>...</td>\n",
       "      <td>NaN</td>\n",
       "      <td>NaN</td>\n",
       "      <td>NaN</td>\n",
       "      <td>NaN</td>\n",
       "      <td>NaN</td>\n",
       "      <td>NaN</td>\n",
       "      <td>NaN</td>\n",
       "      <td>http://geadata.esac.esa.int/data-server/datali...</td>\n",
       "      <td>NaN</td>\n",
       "      <td>42947680095257344</td>\n",
       "    </tr>\n",
       "  </tbody>\n",
       "</table>\n",
       "<p>5 rows × 98 columns</p>\n",
       "</div>"
      ],
      "text/plain": [
       "   table2_oid  col1          solution_id                 designation  \\\n",
       "0           1     0  1635721458409799680  Gaia DR2 64552022725337856   \n",
       "1           2     1  1635721458409799680  Gaia DR2 44388010264995200   \n",
       "2           3     2  1635721458409799680  Gaia DR2 44052178182130816   \n",
       "3           4     3  1635721458409799680  Gaia DR2 63395989328447232   \n",
       "4           5     4  1635721458409799680  Gaia DR2 42947680095257344   \n",
       "\n",
       "   random_index  ref_epoch         ra  ra_error        dec  dec_error  \\\n",
       "0     805628475     2015.5  53.544861  0.084542  22.072399   0.062352   \n",
       "1     350324408     2015.5  55.191643  0.114236  17.579829   0.088322   \n",
       "2     120803872     2015.5  55.519163  0.088386  16.421655   0.059111   \n",
       "3     378490312     2015.5  55.946823  0.056599  20.859947   0.038860   \n",
       "4     283438101     2015.5  56.749149  0.143451  15.404583   0.082477   \n",
       "\n",
       "         ...          flame_flags  radius_val  radius_percentile_lower  \\\n",
       "0        ...                  NaN         NaN                      NaN   \n",
       "1        ...                  NaN         NaN                      NaN   \n",
       "2        ...                  NaN         NaN                      NaN   \n",
       "3        ...                  NaN         NaN                      NaN   \n",
       "4        ...                  NaN         NaN                      NaN   \n",
       "\n",
       "   radius_percentile_upper  lum_val  lum_percentile_lower  \\\n",
       "0                      NaN      NaN                   NaN   \n",
       "1                      NaN      NaN                   NaN   \n",
       "2                      NaN      NaN                   NaN   \n",
       "3                      NaN      NaN                   NaN   \n",
       "4                      NaN      NaN                   NaN   \n",
       "\n",
       "   lum_percentile_upper                                       datalink_url  \\\n",
       "0                   NaN  http://geadata.esac.esa.int/data-server/datali...   \n",
       "1                   NaN  http://geadata.esac.esa.int/data-server/datali...   \n",
       "2                   NaN  http://geadata.esac.esa.int/data-server/datali...   \n",
       "3                   NaN  http://geadata.esac.esa.int/data-server/datali...   \n",
       "4                   NaN  http://geadata.esac.esa.int/data-server/datali...   \n",
       "\n",
       "   epoch_photometry_url          source_id  \n",
       "0                   NaN  64552022725337856  \n",
       "1                   NaN  44388010264995200  \n",
       "2                   NaN  44052178182130816  \n",
       "3                   NaN  63395989328447232  \n",
       "4                   NaN  42947680095257344  \n",
       "\n",
       "[5 rows x 98 columns]"
      ]
     },
     "execution_count": 303,
     "metadata": {},
     "output_type": "execute_result"
    }
   ],
   "source": [
    "gaia_h = pd.read_csv(\"../data/hyades-result.csv\")\n",
    "gaia_h.head()"
   ]
  },
  {
   "cell_type": "code",
   "execution_count": 304,
   "metadata": {},
   "outputs": [],
   "source": [
    "df3 = pd.merge(df2, gaia_h, on=\"source_id\")"
   ]
  },
  {
   "cell_type": "code",
   "execution_count": 305,
   "metadata": {},
   "outputs": [
    {
     "name": "stdout",
     "output_type": "stream",
     "text": [
      "(164, 182)\n"
     ]
    }
   ],
   "source": [
    "print(np.shape(df3))"
   ]
  },
  {
   "cell_type": "code",
   "execution_count": 307,
   "metadata": {},
   "outputs": [
    {
     "data": {
      "text/plain": [
       "[<matplotlib.lines.Line2D at 0x11ea36240>]"
      ]
     },
     "execution_count": 307,
     "metadata": {},
     "output_type": "execute_result"
    },
    {
     "data": {
      "image/png": "[encoded data removed]",
      "text/plain": [
       "<matplotlib.figure.Figure at 0x1209b9710>"
      ]
     },
     "metadata": {},
     "output_type": "display_data"
    }
   ],
   "source": [
    "m = 0 < df3.prot.values \n",
    "plt.plot(df3.bp[m] - df3.rp[m], df3.prot.values[m], \".\")"
   ]
  },
  {
   "cell_type": "code",
   "execution_count": null,
   "metadata": {},
   "outputs": [],
   "source": []
  }
 ],
 "metadata": {
  "anaconda-cloud": {},
  "kernelspec": {
   "display_name": "Python [conda root]",
   "language": "python",
   "name": "conda-root-py"
  },
  "language_info": {
   "codemirror_mode": {
    "name": "ipython",
    "version": 3
   },
   "file_extension": ".py",
   "mimetype": "text/x-python",
   "name": "python",
   "nbconvert_exporter": "python",
   "pygments_lexer": "ipython3",
   "version": "3.5.2"
  }
 },
 "nbformat": 4,
 "nbformat_minor": 1
}
